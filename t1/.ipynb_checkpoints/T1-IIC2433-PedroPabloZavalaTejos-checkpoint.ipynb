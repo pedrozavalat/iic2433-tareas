{
 "cells": [
  {
   "cell_type": "markdown",
   "metadata": {
    "id": "FyoSWRNG4V6j"
   },
   "source": [
    "Pontificia Universidad Católica de Chile <br>\n",
    "Departamento de Ciencia de la Computación <br>\n",
    "IIC2433 - Minería de Datos\n",
    "<br>\n",
    "\n",
    "<center>\n",
    "    <h2> Tarea 1 </h2>\n",
    "    <h1> Mobile Price </h1>\n",
    "    <p>\n",
    "        Profesor Marcelo Mendoza<br>\n",
    "        Segundo Semestre 2023<br>    \n",
    "        Fecha de entrega: 4 de septiembre\n",
    "    </p>\n",
    "    <br>\n",
    "</center>\n",
    "\n",
    "<br>\n",
    "\n",
    "---"
   ]
  },
  {
   "cell_type": "markdown",
   "metadata": {
    "id": "IqaM5wrU4V6o"
   },
   "source": [
    "## Indicaciones\n",
    "\n",
    "Deberás entregar **SOLO** el archivo .ipynb en el buzón respectivo en canvas.\n",
    "\n",
    "**IMPORTANTE**:\n",
    "- Se te dará puntaje tanto por código como por la manera en la que respondas las preguntas planteadas. Es decir, si tienes un código perfecto pero este no es explicado o no se responden preguntas asociadas a este, no se tendrá el puntaje completo.\n",
    "- El notebook debe tener todas las celdas de código ejecutadas. Cualquier notebook que no las tenga no podrá ser corregido.\n",
    "- El carácter de esta tarea es **INDIVIDUAL**. Cualquier instancia de copia resultará en un 1,1 como nota de curso.\n",
    "\n",
    "---"
   ]
  },
  {
   "cell_type": "markdown",
   "metadata": {
    "id": "qF99zSnD4V6o"
   },
   "source": [
    "## Librerías"
   ]
  },
  {
   "cell_type": "code",
   "execution_count": 1,
   "metadata": {
    "id": "eM5xDd9l4V6p"
   },
   "outputs": [
    {
     "ename": "ImportError",
     "evalue": "dlopen(/Library/Frameworks/Python.framework/Versions/3.10/lib/python3.10/site-packages/PIL/_imaging.cpython-310-darwin.so, 0x0002): tried: '/Library/Frameworks/Python.framework/Versions/3.10/lib/python3.10/site-packages/PIL/_imaging.cpython-310-darwin.so' (mach-o file, but is an incompatible architecture (have (arm64), need (x86_64)))",
     "output_type": "error",
     "traceback": [
      "\u001b[0;31m---------------------------------------------------------------------------\u001b[0m",
      "\u001b[0;31mImportError\u001b[0m                               Traceback (most recent call last)",
      "Input \u001b[0;32mIn [1]\u001b[0m, in \u001b[0;36m<cell line: 2>\u001b[0;34m()\u001b[0m\n\u001b[1;32m      1\u001b[0m \u001b[38;5;28;01mimport\u001b[39;00m \u001b[38;5;21;01mnumpy\u001b[39;00m \u001b[38;5;28;01mas\u001b[39;00m \u001b[38;5;21;01mnp\u001b[39;00m\n\u001b[0;32m----> 2\u001b[0m \u001b[38;5;28;01mimport\u001b[39;00m \u001b[38;5;21;01mmatplotlib\u001b[39;00m\u001b[38;5;21;01m.\u001b[39;00m\u001b[38;5;21;01mpyplot\u001b[39;00m \u001b[38;5;28;01mas\u001b[39;00m \u001b[38;5;21;01mplt\u001b[39;00m\n\u001b[1;32m      3\u001b[0m \u001b[38;5;28;01mimport\u001b[39;00m \u001b[38;5;21;01mpandas\u001b[39;00m \u001b[38;5;28;01mas\u001b[39;00m \u001b[38;5;21;01mpd\u001b[39;00m\n\u001b[1;32m      4\u001b[0m \u001b[38;5;28;01mimport\u001b[39;00m \u001b[38;5;21;01mseaborn\u001b[39;00m \u001b[38;5;28;01mas\u001b[39;00m \u001b[38;5;21;01msns\u001b[39;00m\n",
      "File \u001b[0;32m/Library/Frameworks/Python.framework/Versions/3.10/lib/python3.10/site-packages/matplotlib/__init__.py:131\u001b[0m, in \u001b[0;36m<module>\u001b[0;34m\u001b[0m\n\u001b[1;32m    127\u001b[0m \u001b[38;5;28;01mfrom\u001b[39;00m \u001b[38;5;21;01mpackaging\u001b[39;00m\u001b[38;5;21;01m.\u001b[39;00m\u001b[38;5;21;01mversion\u001b[39;00m \u001b[38;5;28;01mimport\u001b[39;00m parse \u001b[38;5;28;01mas\u001b[39;00m parse_version\n\u001b[1;32m    129\u001b[0m \u001b[38;5;66;03m# cbook must import matplotlib only within function\u001b[39;00m\n\u001b[1;32m    130\u001b[0m \u001b[38;5;66;03m# definitions, so it is safe to import from it here.\u001b[39;00m\n\u001b[0;32m--> 131\u001b[0m \u001b[38;5;28;01mfrom\u001b[39;00m \u001b[38;5;21;01m.\u001b[39;00m \u001b[38;5;28;01mimport\u001b[39;00m _api, _version, cbook, _docstring, rcsetup\n\u001b[1;32m    132\u001b[0m \u001b[38;5;28;01mfrom\u001b[39;00m \u001b[38;5;21;01mmatplotlib\u001b[39;00m\u001b[38;5;21;01m.\u001b[39;00m\u001b[38;5;21;01mcbook\u001b[39;00m \u001b[38;5;28;01mimport\u001b[39;00m sanitize_sequence\n\u001b[1;32m    133\u001b[0m \u001b[38;5;28;01mfrom\u001b[39;00m \u001b[38;5;21;01mmatplotlib\u001b[39;00m\u001b[38;5;21;01m.\u001b[39;00m\u001b[38;5;21;01m_api\u001b[39;00m \u001b[38;5;28;01mimport\u001b[39;00m MatplotlibDeprecationWarning\n",
      "File \u001b[0;32m/Library/Frameworks/Python.framework/Versions/3.10/lib/python3.10/site-packages/matplotlib/rcsetup.py:27\u001b[0m, in \u001b[0;36m<module>\u001b[0;34m\u001b[0m\n\u001b[1;32m     25\u001b[0m \u001b[38;5;28;01mfrom\u001b[39;00m \u001b[38;5;21;01mmatplotlib\u001b[39;00m \u001b[38;5;28;01mimport\u001b[39;00m _api, cbook\n\u001b[1;32m     26\u001b[0m \u001b[38;5;28;01mfrom\u001b[39;00m \u001b[38;5;21;01mmatplotlib\u001b[39;00m\u001b[38;5;21;01m.\u001b[39;00m\u001b[38;5;21;01mcbook\u001b[39;00m \u001b[38;5;28;01mimport\u001b[39;00m ls_mapper\n\u001b[0;32m---> 27\u001b[0m \u001b[38;5;28;01mfrom\u001b[39;00m \u001b[38;5;21;01mmatplotlib\u001b[39;00m\u001b[38;5;21;01m.\u001b[39;00m\u001b[38;5;21;01mcolors\u001b[39;00m \u001b[38;5;28;01mimport\u001b[39;00m Colormap, is_color_like\n\u001b[1;32m     28\u001b[0m \u001b[38;5;28;01mfrom\u001b[39;00m \u001b[38;5;21;01mmatplotlib\u001b[39;00m\u001b[38;5;21;01m.\u001b[39;00m\u001b[38;5;21;01m_fontconfig_pattern\u001b[39;00m \u001b[38;5;28;01mimport\u001b[39;00m parse_fontconfig_pattern\n\u001b[1;32m     29\u001b[0m \u001b[38;5;28;01mfrom\u001b[39;00m \u001b[38;5;21;01mmatplotlib\u001b[39;00m\u001b[38;5;21;01m.\u001b[39;00m\u001b[38;5;21;01m_enums\u001b[39;00m \u001b[38;5;28;01mimport\u001b[39;00m JoinStyle, CapStyle\n",
      "File \u001b[0;32m/Library/Frameworks/Python.framework/Versions/3.10/lib/python3.10/site-packages/matplotlib/colors.py:51\u001b[0m, in \u001b[0;36m<module>\u001b[0;34m\u001b[0m\n\u001b[1;32m     49\u001b[0m \u001b[38;5;28;01mfrom\u001b[39;00m \u001b[38;5;21;01mnumbers\u001b[39;00m \u001b[38;5;28;01mimport\u001b[39;00m Number\n\u001b[1;32m     50\u001b[0m \u001b[38;5;28;01mimport\u001b[39;00m \u001b[38;5;21;01mre\u001b[39;00m\n\u001b[0;32m---> 51\u001b[0m \u001b[38;5;28;01mfrom\u001b[39;00m \u001b[38;5;21;01mPIL\u001b[39;00m \u001b[38;5;28;01mimport\u001b[39;00m Image\n\u001b[1;32m     52\u001b[0m \u001b[38;5;28;01mfrom\u001b[39;00m \u001b[38;5;21;01mPIL\u001b[39;00m\u001b[38;5;21;01m.\u001b[39;00m\u001b[38;5;21;01mPngImagePlugin\u001b[39;00m \u001b[38;5;28;01mimport\u001b[39;00m PngInfo\n\u001b[1;32m     54\u001b[0m \u001b[38;5;28;01mimport\u001b[39;00m \u001b[38;5;21;01mmatplotlib\u001b[39;00m \u001b[38;5;28;01mas\u001b[39;00m \u001b[38;5;21;01mmpl\u001b[39;00m\n",
      "File \u001b[0;32m/Library/Frameworks/Python.framework/Versions/3.10/lib/python3.10/site-packages/PIL/Image.py:100\u001b[0m, in \u001b[0;36m<module>\u001b[0;34m\u001b[0m\n\u001b[1;32m     91\u001b[0m MAX_IMAGE_PIXELS \u001b[38;5;241m=\u001b[39m \u001b[38;5;28mint\u001b[39m(\u001b[38;5;241m1024\u001b[39m \u001b[38;5;241m*\u001b[39m \u001b[38;5;241m1024\u001b[39m \u001b[38;5;241m*\u001b[39m \u001b[38;5;241m1024\u001b[39m \u001b[38;5;241m/\u001b[39m\u001b[38;5;241m/\u001b[39m \u001b[38;5;241m4\u001b[39m \u001b[38;5;241m/\u001b[39m\u001b[38;5;241m/\u001b[39m \u001b[38;5;241m3\u001b[39m)\n\u001b[1;32m     94\u001b[0m \u001b[38;5;28;01mtry\u001b[39;00m:\n\u001b[1;32m     95\u001b[0m     \u001b[38;5;66;03m# If the _imaging C module is not present, Pillow will not load.\u001b[39;00m\n\u001b[1;32m     96\u001b[0m     \u001b[38;5;66;03m# Note that other modules should not refer to _imaging directly;\u001b[39;00m\n\u001b[1;32m     97\u001b[0m     \u001b[38;5;66;03m# import Image and use the Image.core variable instead.\u001b[39;00m\n\u001b[1;32m     98\u001b[0m     \u001b[38;5;66;03m# Also note that Image.core is not a publicly documented interface,\u001b[39;00m\n\u001b[1;32m     99\u001b[0m     \u001b[38;5;66;03m# and should be considered private and subject to change.\u001b[39;00m\n\u001b[0;32m--> 100\u001b[0m     \u001b[38;5;28;01mfrom\u001b[39;00m \u001b[38;5;21;01m.\u001b[39;00m \u001b[38;5;28;01mimport\u001b[39;00m _imaging \u001b[38;5;28;01mas\u001b[39;00m core\n\u001b[1;32m    102\u001b[0m     \u001b[38;5;28;01mif\u001b[39;00m __version__ \u001b[38;5;241m!=\u001b[39m \u001b[38;5;28mgetattr\u001b[39m(core, \u001b[38;5;124m\"\u001b[39m\u001b[38;5;124mPILLOW_VERSION\u001b[39m\u001b[38;5;124m\"\u001b[39m, \u001b[38;5;28;01mNone\u001b[39;00m):\n\u001b[1;32m    103\u001b[0m         \u001b[38;5;28;01mraise\u001b[39;00m \u001b[38;5;167;01mImportError\u001b[39;00m(\n\u001b[1;32m    104\u001b[0m             \u001b[38;5;124m\"\u001b[39m\u001b[38;5;124mThe _imaging extension was built for another version of Pillow or PIL:\u001b[39m\u001b[38;5;130;01m\\n\u001b[39;00m\u001b[38;5;124m\"\u001b[39m\n\u001b[1;32m    105\u001b[0m             \u001b[38;5;124mf\u001b[39m\u001b[38;5;124m\"\u001b[39m\u001b[38;5;124mCore version: \u001b[39m\u001b[38;5;132;01m{\u001b[39;00m\u001b[38;5;28mgetattr\u001b[39m(core, \u001b[38;5;124m'\u001b[39m\u001b[38;5;124mPILLOW_VERSION\u001b[39m\u001b[38;5;124m'\u001b[39m, \u001b[38;5;28;01mNone\u001b[39;00m)\u001b[38;5;132;01m}\u001b[39;00m\u001b[38;5;130;01m\\n\u001b[39;00m\u001b[38;5;124m\"\u001b[39m\n\u001b[1;32m    106\u001b[0m             \u001b[38;5;124mf\u001b[39m\u001b[38;5;124m\"\u001b[39m\u001b[38;5;124mPillow version: \u001b[39m\u001b[38;5;132;01m{\u001b[39;00m__version__\u001b[38;5;132;01m}\u001b[39;00m\u001b[38;5;124m\"\u001b[39m\n\u001b[1;32m    107\u001b[0m         )\n",
      "\u001b[0;31mImportError\u001b[0m: dlopen(/Library/Frameworks/Python.framework/Versions/3.10/lib/python3.10/site-packages/PIL/_imaging.cpython-310-darwin.so, 0x0002): tried: '/Library/Frameworks/Python.framework/Versions/3.10/lib/python3.10/site-packages/PIL/_imaging.cpython-310-darwin.so' (mach-o file, but is an incompatible architecture (have (arm64), need (x86_64)))"
     ]
    }
   ],
   "source": [
    "import numpy as np\n",
    "import matplotlib.pyplot as plt\n",
    "import pandas as pd\n",
    "import seaborn as sns\n",
    "\n",
    "# Importa aquí las librerías que vayas a utilizar\n",
    "from sklearn import preprocessing\n",
    "\n"
   ]
  },
  {
   "cell_type": "markdown",
   "metadata": {},
   "source": [
    "Introduccion"
   ]
  },
  {
   "cell_type": "markdown",
   "metadata": {
    "id": "x8Rk2XJl8LjI"
   },
   "source": [
    "El dataset utilizado es Mobile Price. Este conjunto de datos refleja una serie de características propias de un teléfono móvil.\n",
    "\n",
    "A continuación, se presentan las variables que están contenidas:\n",
    "\n",
    "* battery_power: Capacidad de la batería.\n",
    "\n",
    "* blue: Tiene bluetooth o no.\n",
    "\n",
    "* clock_speed: Frecuencia del procesador.\n",
    "\n",
    "* dual_sim: Tiene dual sim o no.\n",
    "\n",
    "* fc: Megapixeles de la cámara frontal.\n",
    "\n",
    "* four_g: Tiene 4G o no.\n",
    "\n",
    "* int_memory: Memoria interna.\n",
    "\n",
    "* m_dep: Profundidad del teléfono.\n",
    "\n",
    "* mobile_wt: Peso del teléfono.\n",
    "\n",
    "* n_cores: Número de procesadores.\n",
    "\n",
    "* pc: Megapixeles de la cámara trasera.\n",
    "\n",
    "* px_height: Cantidad de pixeles (alto)\n",
    "\n",
    "* px_width: Cantidad de pixeles (ancho)\n",
    "\n",
    "* ram: Memoria RAM\n",
    "\n",
    "* sc_h: Altura de la pantalla.\n",
    "\n",
    "* sc_w: Ancho de la pantalla.\n",
    "\n",
    "* talk_time: Duración de la batería.\n",
    "\n",
    "* three_g: Tiene 3G o no.\n",
    "\n",
    "* touch_screen: Tiene pantalla táctil o no.\n",
    "\n",
    "* wifi: Tiene WIFI o no.\n",
    "\n",
    "* price_range: Rango de precios (0: low cost, 1: medium cost, 2: high cost y 3: very high cost)\n",
    "\n",
    "\n"
   ]
  },
  {
   "cell_type": "markdown",
   "metadata": {
    "id": "4WOcFvN44V6r"
   },
   "source": [
    "## Parte 1: Carga y Preprocesamiento de Datos (20 puntos)"
   ]
  },
  {
   "cell_type": "markdown",
   "metadata": {
    "id": "36ztPA4lnwa4"
   },
   "source": [
    "En esta primera parte se debe cargar el dataset y luego describir el comportamiento de algunas variables de interés. Posteriormente, debe realizar el proceso de normalización de los datos."
   ]
  },
  {
   "cell_type": "markdown",
   "metadata": {
    "id": "MkAOWbN04V6r"
   },
   "source": [
    "### 1.1 Carga de Datos (3 puntos)\n",
    "\n",
    "Cargue el dataset Mobile Price dataset. Indique la cantidad de filas y columnas del conjunto de datos. ¿Existen datos nulos?"
   ]
  },
  {
   "cell_type": "markdown",
   "metadata": {
    "id": "FP8j4vaA4V6s"
   },
   "source": [
    "RESPUESTA:"
   ]
  },
  {
   "cell_type": "code",
   "execution_count": null,
   "metadata": {
    "id": "z8TnScyfIYSp"
   },
   "outputs": [],
   "source": [
    "# Cambie el nombre del archivo csv como 'mobile-price-dataset-csv' por comodidad para trabajar sin espacios 😅\n",
    "import pandas as pd\n",
    "X = pd.read_csv('mobile-price-dataset.csv', sep=',')"
   ]
  },
  {
   "cell_type": "code",
   "execution_count": 177,
   "metadata": {},
   "outputs": [
    {
     "name": "stdout",
     "output_type": "stream",
     "text": [
      "Numero de filas: 2000\n",
      "Numero de columnas: 21\n"
     ]
    }
   ],
   "source": [
    "print(f'Numero de filas: {X.shape[0]}')\n",
    "print(f'Numero de columnas: {X.shape[1]}')\n",
    "\n"
   ]
  },
  {
   "cell_type": "code",
   "execution_count": 178,
   "metadata": {},
   "outputs": [
    {
     "data": {
      "text/html": [
       "<div>\n",
       "<style scoped>\n",
       "    .dataframe tbody tr th:only-of-type {\n",
       "        vertical-align: middle;\n",
       "    }\n",
       "\n",
       "    .dataframe tbody tr th {\n",
       "        vertical-align: top;\n",
       "    }\n",
       "\n",
       "    .dataframe thead th {\n",
       "        text-align: right;\n",
       "    }\n",
       "</style>\n",
       "<table border=\"1\" class=\"dataframe\">\n",
       "  <thead>\n",
       "    <tr style=\"text-align: right;\">\n",
       "      <th></th>\n",
       "      <th>battery_power</th>\n",
       "      <th>blue</th>\n",
       "      <th>clock_speed</th>\n",
       "      <th>dual_sim</th>\n",
       "      <th>fc</th>\n",
       "      <th>four_g</th>\n",
       "      <th>int_memory</th>\n",
       "      <th>m_dep</th>\n",
       "      <th>mobile_wt</th>\n",
       "      <th>n_cores</th>\n",
       "      <th>...</th>\n",
       "      <th>px_height</th>\n",
       "      <th>px_width</th>\n",
       "      <th>ram</th>\n",
       "      <th>sc_h</th>\n",
       "      <th>sc_w</th>\n",
       "      <th>talk_time</th>\n",
       "      <th>three_g</th>\n",
       "      <th>touch_screen</th>\n",
       "      <th>wifi</th>\n",
       "      <th>price_range</th>\n",
       "    </tr>\n",
       "  </thead>\n",
       "  <tbody>\n",
       "  </tbody>\n",
       "</table>\n",
       "<p>0 rows × 21 columns</p>\n",
       "</div>"
      ],
      "text/plain": [
       "Empty DataFrame\n",
       "Columns: [battery_power, blue, clock_speed, dual_sim, fc, four_g, int_memory, m_dep, mobile_wt, n_cores, pc, px_height, px_width, ram, sc_h, sc_w, talk_time, three_g, touch_screen, wifi, price_range]\n",
       "Index: []\n",
       "\n",
       "[0 rows x 21 columns]"
      ]
     },
     "execution_count": 178,
     "metadata": {},
     "output_type": "execute_result"
    }
   ],
   "source": [
    "X[X.isnull().any(axis=1)]\n",
    "# No existen datos nulos en el dataset, dado que no retorna ninguna tupla (fila) con elementos nulos. "
   ]
  },
  {
   "cell_type": "markdown",
   "metadata": {
    "id": "O1OioMoj4V6t"
   },
   "source": [
    "### 1.2 Describir dataset (9 puntos)\n",
    "\n",
    "Mediante gráficos y medidas descriptivas apropiadas, describa el comportamiento de las variables:\n",
    "\n",
    "* battery_power\n",
    "* ram\n",
    "* fc\n",
    "* price_range\n",
    "\n",
    "Luego, use gráficos y medidas descriptivas para reflejar la relación existente entre cada variable cuantitativa y el nivel de precios (price_range). Comente."
   ]
  },
  {
   "cell_type": "markdown",
   "metadata": {
    "id": "cltP_P6l4V6u"
   },
   "source": [
    "RESPUESTA:"
   ]
  },
  {
   "cell_type": "markdown",
   "metadata": {},
   "source": [
    "Primero definiremos los atributos del data y lo guardaremos en una variable llamada 'feature_names'. Luego, crearemos las funciones plot_hist() y \n",
    "plot_hist_standarized(), las cuales nos permitiran entender la frecuencia de datos en general (sin algun preprocesamiento) y su distribucion entorno a la media. Ademas, describiremos cada variable obteniendo la media, mediana y desviacion estandar. "
   ]
  },
  {
   "cell_type": "code",
   "execution_count": 196,
   "metadata": {},
   "outputs": [],
   "source": [
    "feature_names = X.columns.tolist() # Guardamos cada variable en una lista para poder graficar\n",
    "feature_mapping = {\n",
    "    'battery_power' : 'Capacidad de la bateria',\n",
    "    'ram' : 'RAM Memory',\n",
    "    'fc' : 'Megapixels frontal camera',\n",
    "    'price_range' : 'Price range'\n",
    "}"
   ]
  },
  {
   "cell_type": "code",
   "execution_count": null,
   "metadata": {},
   "outputs": [],
   "source": [
    "def plot_hist(feature): # Funcion que realiza un histograma sin escalamiento \n",
    "    X_ = X[feature].tolist()\n",
    "    title = feature\n",
    "    xlabel = feature_mapping[feature]\n",
    "    x, bins, patches = plt.hist(x=X_, bins='auto', rwidth=0.3)\n",
    "    plt.grid(axis='y')\n",
    "    plt.xlabel(xlabel)\n",
    "    plt.ylabel('Frequency')\n",
    "    plt.title(title)\n",
    "    maxfreq = x.max()\n",
    "    plt.ylim(ymax=np.ceil(maxfreq))"
   ]
  },
  {
   "cell_type": "code",
   "execution_count": 229,
   "metadata": {},
   "outputs": [],
   "source": [
    "from sklearn import preprocessing\n",
    "def plot_hist_standarized(feature): # Funcion que realiza un histograma estandarizado\n",
    "    X_ = X[feature].tolist()\n",
    "    X_ = np.reshape(X_, (X.shape[0], 1))\n",
    "    scaler = preprocessing.StandardScaler().fit(X_)\n",
    "    X_scaled = scaler.transform(X_)\n",
    "    title = feature_mapping[feature]\n",
    "    x, bins, patches = plt.hist(x=X_scaled, bins='auto', rwidth=0.3)\n",
    "    # plt.grid(axis='y')\n",
    "    plt.xlabel(feature)\n",
    "    plt.ylabel('Frequency')\n",
    "    plt.title(title)\n",
    "    maxfreq = x.max()\n",
    "    plt.ylim(ymax=np.ceil(maxfreq))"
   ]
  },
  {
   "cell_type": "markdown",
   "metadata": {},
   "source": [
    "### Battery Power"
   ]
  },
  {
   "cell_type": "code",
   "execution_count": null,
   "metadata": {},
   "outputs": [
    {
     "data": {
      "image/png": "[encoded data removed]",
      "text/plain": [
       "<Figure size 640x480 with 1 Axes>"
      ]
     },
     "metadata": {},
     "output_type": "display_data"
    }
   ],
   "source": [
    "plot_hist('battery_power')\n",
    "plot_hist_standarized('battery_power')"
   ]
  },
  {
   "cell_type": "code",
   "execution_count": 242,
   "metadata": {},
   "outputs": [
    {
     "data": {
      "image/png": "[encoded data removed]",
      "text/plain": [
       "<Figure size 640x480 with 1 Axes>"
      ]
     },
     "metadata": {},
     "output_type": "display_data"
    }
   ],
   "source": [
    "plot_hist_scaling('battery_power')"
   ]
  },
  {
   "cell_type": "markdown",
   "metadata": {},
   "source": [
    "### Memory RAM"
   ]
  },
  {
   "cell_type": "code",
   "execution_count": 243,
   "metadata": {},
   "outputs": [
    {
     "data": {
      "image/png": "[encoded data removed]",
      "text/plain": [
       "<Figure size 640x480 with 1 Axes>"
      ]
     },
     "metadata": {},
     "output_type": "display_data"
    }
   ],
   "source": [
    "plot_hist('ram')\n"
   ]
  },
  {
   "cell_type": "code",
   "execution_count": 244,
   "metadata": {},
   "outputs": [
    {
     "data": {
      "image/png": "[encoded data removed]",
      "text/plain": [
       "<Figure size 640x480 with 1 Axes>"
      ]
     },
     "metadata": {},
     "output_type": "display_data"
    }
   ],
   "source": [
    "plot_hist_scaling('ram')"
   ]
  },
  {
   "cell_type": "markdown",
   "metadata": {},
   "source": [
    "### Megapixels frontal camera"
   ]
  },
  {
   "cell_type": "code",
   "execution_count": 253,
   "metadata": {},
   "outputs": [
    {
     "data": {
      "image/png": "[encoded data removed]",
      "text/plain": [
       "<Figure size 640x480 with 1 Axes>"
      ]
     },
     "metadata": {},
     "output_type": "display_data"
    }
   ],
   "source": [
    "plot_hist('fc')"
   ]
  },
  {
   "cell_type": "code",
   "execution_count": 246,
   "metadata": {},
   "outputs": [
    {
     "data": {
      "image/png": "[encoded data removed]",
      "text/plain": [
       "<Figure size 640x480 with 1 Axes>"
      ]
     },
     "metadata": {},
     "output_type": "display_data"
    }
   ],
   "source": [
    "plot_hist_scaling('fc')"
   ]
  },
  {
   "cell_type": "markdown",
   "metadata": {},
   "source": [
    "### price_range: Price Range"
   ]
  },
  {
   "cell_type": "code",
   "execution_count": 250,
   "metadata": {},
   "outputs": [
    {
     "data": {
      "image/png": "[encoded data removed]",
      "text/plain": [
       "<Figure size 640x480 with 1 Axes>"
      ]
     },
     "metadata": {},
     "output_type": "display_data"
    }
   ],
   "source": [
    "plot_hist('price_range')"
   ]
  },
  {
   "cell_type": "markdown",
   "metadata": {
    "id": "sChl830E4V6v"
   },
   "source": [
    "### 1.3 Normalizar datos (8 puntos)\n",
    "\n",
    "Realice un proceso de normalización, considerando **SOLO** las siguientes variables:\n",
    "\n",
    "* 'battery_power',\n",
    "* 'clock_speed',\n",
    "* 'fc',\n",
    "* 'int_memory',\n",
    "* 'm_dep',\n",
    "* 'mobile_wt',\n",
    "* 'n_cores',\n",
    "* 'pc',\n",
    "* 'px_height',\n",
    "* 'px_width',\n",
    "* 'ram',\n",
    "* 'sc_h',\n",
    "* 'sc_w',\n",
    "* 'talk_time'\n",
    "\n",
    "\n",
    "Explique por qué es útil realizar esta acción."
   ]
  },
  {
   "cell_type": "markdown",
   "metadata": {
    "id": "CkKlMrf9E1FZ"
   },
   "source": [
    "RESPUESTA:"
   ]
  },
  {
   "cell_type": "code",
   "execution_count": null,
   "metadata": {
    "id": "4BSa3gfWI3OZ"
   },
   "outputs": [],
   "source": []
  },
  {
   "cell_type": "markdown",
   "metadata": {
    "id": "mgHuKOyu4V6w"
   },
   "source": [
    "### Bonus: Investigar medida de asociación lineal (3 décimas)\n",
    "\n",
    "Investigue una medida de asociación lineal entre variables cuantitativas. Describa sus principales características, poniendo énfasis en la interpretación de sus resultados. Luego, calcule la medida respectiva para los datos cuantitativos ya normalizados en el punto 1.3. ¿Qué variables tienen la mayor relación?"
   ]
  },
  {
   "cell_type": "markdown",
   "metadata": {
    "id": "CzQsUQf14V6x"
   },
   "source": [
    "RESPUESTA:"
   ]
  },
  {
   "cell_type": "code",
   "execution_count": null,
   "metadata": {
    "id": "OR1JOhX-I8_w"
   },
   "outputs": [],
   "source": []
  },
  {
   "cell_type": "markdown",
   "metadata": {
    "id": "lY4csAUx4V6x"
   },
   "source": [
    "## Parte 2: Reducción de dimensionalidad (15 puntos)"
   ]
  },
  {
   "cell_type": "markdown",
   "metadata": {
    "id": "GvtDm6AyIyCR"
   },
   "source": [
    "En esta segunda sección se debe utilizar el resultado 1.3 de la parte 1. Para reducir la dimensionalidad, se debe trabajar con **Principal Component Analysis (PCA)**."
   ]
  },
  {
   "cell_type": "markdown",
   "metadata": {
    "id": "94PKIxrWIQgB"
   },
   "source": [
    "### 2.1 Comportamiento de la varianza (5 puntos)\n",
    "\n",
    "Grafique el comportamiento de la varianza en función del número de componentes. Comente."
   ]
  },
  {
   "cell_type": "markdown",
   "metadata": {
    "id": "m4BcKz_p9Lou"
   },
   "source": [
    "RESPUESTA:"
   ]
  },
  {
   "cell_type": "code",
   "execution_count": null,
   "metadata": {
    "id": "ZnTG0YdHJFBx"
   },
   "outputs": [],
   "source": []
  },
  {
   "cell_type": "markdown",
   "metadata": {
    "id": "6akiBdvS4V6x"
   },
   "source": [
    "### 2.2 Retener 90% de la varianza (5 puntos)\n",
    "\n",
    "PCA debe retener un 90% de la varianza de los datos originales. ¿Cuál es el número de componentes que se requieren?"
   ]
  },
  {
   "cell_type": "markdown",
   "metadata": {
    "id": "Dzakeo4kTzJK"
   },
   "source": [
    "RESPUESTA:"
   ]
  },
  {
   "cell_type": "code",
   "execution_count": null,
   "metadata": {
    "id": "7D07i8m5JKPA"
   },
   "outputs": [],
   "source": []
  },
  {
   "cell_type": "markdown",
   "metadata": {
    "id": "-xVPrLYd4V6x"
   },
   "source": [
    "### 2.3 Reducir dimensionalidad a n=6 (5 puntos)\n",
    "\n",
    "PCA debe construirse con dimensionalidad n=6. Determine la proporción de varianza explicada."
   ]
  },
  {
   "cell_type": "markdown",
   "metadata": {
    "id": "yyGGWcg3JMM5"
   },
   "source": [
    "RESPUESTA:"
   ]
  },
  {
   "cell_type": "code",
   "execution_count": null,
   "metadata": {
    "id": "nOXpep--JOH5"
   },
   "outputs": [],
   "source": []
  },
  {
   "cell_type": "markdown",
   "metadata": {
    "id": "GaUsFp9v5yqM"
   },
   "source": [
    "## Parte 3: Detección de outliers (10 puntos)"
   ]
  },
  {
   "cell_type": "markdown",
   "metadata": {
    "id": "hu0m5hkql9Ov"
   },
   "source": [
    "En esta tercera parte se debe evaluar la existencia de outliers en el conjunto de datos que solo contiene variables cuantitativas. Para ello, debe trabajar con la matriz obtenida en el punto 2.2 (retiene el 90% de la varianza)."
   ]
  },
  {
   "cell_type": "markdown",
   "metadata": {
    "id": "rEXWDY4DnKoX"
   },
   "source": [
    "### 3.1 Graficar histograma LOF (5 puntos)\n",
    "\n",
    "Utilizando la técnica **Local Outlier Factor (LOF)**, construya un histograma de puntajes LOF. Considere un número de vecinos igual a 5 y use como métrica la distancia euclidiana."
   ]
  },
  {
   "cell_type": "markdown",
   "metadata": {
    "id": "93Plndk2Jp3p"
   },
   "source": [
    "RESPUESTA:"
   ]
  },
  {
   "cell_type": "code",
   "execution_count": null,
   "metadata": {
    "id": "iWVOFpm6Jrpi"
   },
   "outputs": [],
   "source": []
  },
  {
   "cell_type": "markdown",
   "metadata": {
    "id": "pT-24UYmreTn"
   },
   "source": [
    "### 3.2 Identificar datos atípicos (5 puntos)\n",
    "\n",
    "En base al histograma del punto 3.1, y considerando un umbral de corte igual a -1,15, determine los datos atípicos del dataset. ¿Qué proporción de datos corresponden a outliers?\n",
    "\n",
    "Luego, elimine los datos atípicos del conjunto de datos evaluado."
   ]
  },
  {
   "cell_type": "markdown",
   "metadata": {
    "id": "PoHNR8TaJyNh"
   },
   "source": [
    "RESPUESTA:"
   ]
  },
  {
   "cell_type": "code",
   "execution_count": null,
   "metadata": {
    "id": "V6zHlhvtJze4"
   },
   "outputs": [],
   "source": []
  },
  {
   "cell_type": "markdown",
   "metadata": {
    "id": "o2mjswwg51Lb"
   },
   "source": [
    "## Parte 4: Clasificación (15 puntos)"
   ]
  },
  {
   "cell_type": "markdown",
   "metadata": {
    "id": "sglwjyrLvoI_"
   },
   "source": [
    "En esta última sección debe entrenar un clasificador basado en k-nearest neighbors. Para ello, debe considerar el resultado del punto 3.2. Es decir, el conjunto de datos que no contiene datos atípicos."
   ]
  },
  {
   "cell_type": "markdown",
   "metadata": {
    "id": "RhFvbvge54h7"
   },
   "source": [
    "### 4.1 Separar train y test (4 puntos)\n",
    "\n",
    "Tomando en consideración el resultado del punto 3.2, separe el conjunto de datos en train (75%) y test (25%). Utilice **price_range** como variable de respuesta (y).\n",
    "\n",
    "Luego, para y_train e y_test, determine la cantidad de elementos de cada clase.\n",
    "\n",
    "**Observación:**\n",
    "\n",
    "Para trabajar con la variable **price_range**, debe eliminar los registros clasificados como atípicos en el dataset original de Mobile Price. Considere que la dimensión del vector **price_range** debe coincidir con el número de filas del conjunto de datos del punto 3.2."
   ]
  },
  {
   "cell_type": "markdown",
   "metadata": {
    "id": "8IEJBQv6x1Ln"
   },
   "source": [
    "RESPUESTA:"
   ]
  },
  {
   "cell_type": "code",
   "execution_count": null,
   "metadata": {
    "id": "ywHajN3QKDZB"
   },
   "outputs": [],
   "source": []
  },
  {
   "cell_type": "markdown",
   "metadata": {
    "id": "1SaOgo2y6BYf"
   },
   "source": [
    "### 4.2 Aplicar clasificador KNeighborsClassifier (7 puntos)\n",
    "\n",
    "Determine el número de vecinos entre los siguientes valores: 2, 3, 4, 5, 6 y 7. Considere la métrica score para tomar la decisión."
   ]
  },
  {
   "cell_type": "markdown",
   "metadata": {
    "id": "tAJuvqblKKec"
   },
   "source": [
    "RESPUESTA:"
   ]
  },
  {
   "cell_type": "code",
   "execution_count": null,
   "metadata": {
    "id": "rqd6xEtZKMhL"
   },
   "outputs": [],
   "source": []
  },
  {
   "cell_type": "markdown",
   "metadata": {
    "id": "E-oi1vms6GFp"
   },
   "source": [
    "### 4.3 Evaluar clasificador por clase (4 puntos)\n",
    "\n",
    "Utilizando el mejor clasificador, identificado en el punto 4.2, evalúe el rendimiento por clase."
   ]
  },
  {
   "cell_type": "markdown",
   "metadata": {
    "id": "Ei2s1pWTKQeT"
   },
   "source": [
    "RESPUESTA:"
   ]
  },
  {
   "cell_type": "code",
   "execution_count": null,
   "metadata": {
    "id": "0W0h5oLQKTir"
   },
   "outputs": [],
   "source": []
  }
 ],
 "metadata": {
  "colab": {
   "provenance": []
  },
  "kernelspec": {
   "display_name": "Python 3 (ipykernel)",
   "language": "python",
   "name": "python3"
  },
  "language_info": {
   "codemirror_mode": {
    "name": "ipython",
    "version": 3
   },
   "file_extension": ".py",
   "mimetype": "text/x-python",
   "name": "python",
   "nbconvert_exporter": "python",
   "pygments_lexer": "ipython3",
   "version": "3.10.6"
  }
 },
 "nbformat": 4,
 "nbformat_minor": 1
}
