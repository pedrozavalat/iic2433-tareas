{
 "cells": [
  {
   "cell_type": "markdown",
   "metadata": {
    "id": "FyoSWRNG4V6j"
   },
   "source": [
    "Pontificia Universidad Católica de Chile <br>\n",
    "Departamento de Ciencia de la Computación <br>\n",
    "IIC2433 - Minería de Datos\n",
    "<br>\n",
    "\n",
    "<center>\n",
    "    <h2> Tarea 1 </h2>\n",
    "    <h1> Mobile Price </h1>\n",
    "    <p>\n",
    "        Profesor Marcelo Mendoza<br>\n",
    "        Segundo Semestre 2023<br>    \n",
    "        Fecha de entrega: 4 de septiembre\n",
    "    </p>\n",
    "    <br>\n",
    "</center>\n",
    "\n",
    "<br>\n",
    "\n",
    "---"
   ]
  },
  {
   "cell_type": "markdown",
   "metadata": {
    "id": "IqaM5wrU4V6o"
   },
   "source": [
    "## Indicaciones\n",
    "\n",
    "Deberás entregar **SOLO** el archivo .ipynb en el buzón respectivo en canvas.\n",
    "\n",
    "**IMPORTANTE**:\n",
    "- Se te dará puntaje tanto por código como por la manera en la que respondas las preguntas planteadas. Es decir, si tienes un código perfecto pero este no es explicado o no se responden preguntas asociadas a este, no se tendrá el puntaje completo.\n",
    "- El notebook debe tener todas las celdas de código ejecutadas. Cualquier notebook que no las tenga no podrá ser corregido.\n",
    "- El carácter de esta tarea es **INDIVIDUAL**. Cualquier instancia de copia resultará en un 1,1 como nota de curso.\n",
    "\n",
    "---"
   ]
  },
  {
   "cell_type": "markdown",
   "metadata": {
    "id": "qF99zSnD4V6o"
   },
   "source": [
    "## Librerías"
   ]
  },
  {
   "cell_type": "code",
   "execution_count": 41,
   "metadata": {
    "id": "eM5xDd9l4V6p"
   },
   "outputs": [],
   "source": [
    "import numpy as np\n",
    "import matplotlib.pyplot as plt\n",
    "import pandas as pd\n",
    "import seaborn as sns\n",
    "\n",
    "# Importa aquí las librerías que vayas a utilizar\n",
    "from sklearn import (preprocessing, decomposition, neighbors, model_selection) \n",
    "\n"
   ]
  },
  {
   "cell_type": "markdown",
   "metadata": {},
   "source": [
    "Introduccion"
   ]
  },
  {
   "cell_type": "markdown",
   "metadata": {
    "id": "x8Rk2XJl8LjI"
   },
   "source": [
    "El dataset utilizado es Mobile Price. Este conjunto de datos refleja una serie de características propias de un teléfono móvil.\n",
    "\n",
    "A continuación, se presentan las variables que están contenidas:\n",
    "\n",
    "* battery_power: Capacidad de la batería.\n",
    "\n",
    "* blue: Tiene bluetooth o no.\n",
    "\n",
    "* clock_speed: Frecuencia del procesador.\n",
    "\n",
    "* dual_sim: Tiene dual sim o no.\n",
    "\n",
    "* fc: Megapixeles de la cámara frontal.\n",
    "\n",
    "* four_g: Tiene 4G o no.\n",
    "\n",
    "* int_memory: Memoria interna.\n",
    "\n",
    "* m_dep: Profundidad del teléfono.\n",
    "\n",
    "* mobile_wt: Peso del teléfono.\n",
    "\n",
    "* n_cores: Número de procesadores.\n",
    "\n",
    "* pc: Megapixeles de la cámara trasera.\n",
    "\n",
    "* px_height: Cantidad de pixeles (alto)\n",
    "\n",
    "* px_width: Cantidad de pixeles (ancho)\n",
    "\n",
    "* ram: Memoria RAM\n",
    "\n",
    "* sc_h: Altura de la pantalla.\n",
    "\n",
    "* sc_w: Ancho de la pantalla.\n",
    "\n",
    "* talk_time: Duración de la batería.\n",
    "\n",
    "* three_g: Tiene 3G o no.\n",
    "\n",
    "* touch_screen: Tiene pantalla táctil o no.\n",
    "\n",
    "* wifi: Tiene WIFI o no.\n",
    "\n",
    "* price_range: Rango de precios (0: low cost, 1: medium cost, 2: high cost y 3: very high cost)\n",
    "\n",
    "\n"
   ]
  },
  {
   "cell_type": "markdown",
   "metadata": {
    "id": "4WOcFvN44V6r"
   },
   "source": [
    "# Parte 1: Carga y Preprocesamiento de Datos (20 puntos)"
   ]
  },
  {
   "cell_type": "markdown",
   "metadata": {
    "id": "36ztPA4lnwa4"
   },
   "source": [
    "En esta primera parte se debe cargar el dataset y luego describir el comportamiento de algunas variables de interés. Posteriormente, debe realizar el proceso de normalización de los datos."
   ]
  },
  {
   "cell_type": "markdown",
   "metadata": {
    "id": "MkAOWbN04V6r"
   },
   "source": [
    "### 1.1 Carga de Datos (3 puntos)\n",
    "\n",
    "Cargue el dataset Mobile Price dataset. Indique la cantidad de filas y columnas del conjunto de datos. ¿Existen datos nulos?"
   ]
  },
  {
   "cell_type": "markdown",
   "metadata": {
    "id": "FP8j4vaA4V6s"
   },
   "source": [
    "RESPUESTA:"
   ]
  },
  {
   "cell_type": "code",
   "execution_count": 3,
   "metadata": {
    "id": "z8TnScyfIYSp"
   },
   "outputs": [],
   "source": [
    "# Cambie el nombre del archivo csv como 'mobile-price-dataset-csv' por comodidad para trabajar sin espacios 😅\n",
    "import pandas as pd\n",
    "X = pd.read_csv('mobile-price-dataset.csv', sep=',')"
   ]
  },
  {
   "cell_type": "code",
   "execution_count": 4,
   "metadata": {},
   "outputs": [
    {
     "name": "stdout",
     "output_type": "stream",
     "text": [
      "Numero de filas: 2000\n",
      "Numero de columnas: 21\n"
     ]
    }
   ],
   "source": [
    "print(f'Numero de filas: {X.shape[0]}')\n",
    "print(f'Numero de columnas: {X.shape[1]}')\n",
    "\n"
   ]
  },
  {
   "cell_type": "code",
   "execution_count": 5,
   "metadata": {},
   "outputs": [
    {
     "data": {
      "text/html": [
       "<div>\n",
       "<style scoped>\n",
       "    .dataframe tbody tr th:only-of-type {\n",
       "        vertical-align: middle;\n",
       "    }\n",
       "\n",
       "    .dataframe tbody tr th {\n",
       "        vertical-align: top;\n",
       "    }\n",
       "\n",
       "    .dataframe thead th {\n",
       "        text-align: right;\n",
       "    }\n",
       "</style>\n",
       "<table border=\"1\" class=\"dataframe\">\n",
       "  <thead>\n",
       "    <tr style=\"text-align: right;\">\n",
       "      <th></th>\n",
       "      <th>battery_power</th>\n",
       "      <th>blue</th>\n",
       "      <th>clock_speed</th>\n",
       "      <th>dual_sim</th>\n",
       "      <th>fc</th>\n",
       "      <th>four_g</th>\n",
       "      <th>int_memory</th>\n",
       "      <th>m_dep</th>\n",
       "      <th>mobile_wt</th>\n",
       "      <th>n_cores</th>\n",
       "      <th>...</th>\n",
       "      <th>px_height</th>\n",
       "      <th>px_width</th>\n",
       "      <th>ram</th>\n",
       "      <th>sc_h</th>\n",
       "      <th>sc_w</th>\n",
       "      <th>talk_time</th>\n",
       "      <th>three_g</th>\n",
       "      <th>touch_screen</th>\n",
       "      <th>wifi</th>\n",
       "      <th>price_range</th>\n",
       "    </tr>\n",
       "  </thead>\n",
       "  <tbody>\n",
       "  </tbody>\n",
       "</table>\n",
       "<p>0 rows × 21 columns</p>\n",
       "</div>"
      ],
      "text/plain": [
       "Empty DataFrame\n",
       "Columns: [battery_power, blue, clock_speed, dual_sim, fc, four_g, int_memory, m_dep, mobile_wt, n_cores, pc, px_height, px_width, ram, sc_h, sc_w, talk_time, three_g, touch_screen, wifi, price_range]\n",
       "Index: []\n",
       "\n",
       "[0 rows x 21 columns]"
      ]
     },
     "execution_count": 5,
     "metadata": {},
     "output_type": "execute_result"
    }
   ],
   "source": [
    "X[X.isnull().any(axis=1)]\n",
    "# No existen datos nulos en el dataset, dado que no retorna ninguna tupla (fila) con elementos nulos. "
   ]
  },
  {
   "cell_type": "markdown",
   "metadata": {
    "id": "O1OioMoj4V6t"
   },
   "source": [
    "## 1.2 Describir dataset (9 puntos)\n",
    "\n",
    "Mediante gráficos y medidas descriptivas apropiadas, describa el comportamiento de las variables:\n",
    "\n",
    "* battery_power\n",
    "* ram\n",
    "* fc\n",
    "* price_range\n",
    "\n",
    "Luego, use gráficos y medidas descriptivas para reflejar la relación existente entre cada variable cuantitativa y el nivel de precios (price_range). Comente."
   ]
  },
  {
   "cell_type": "markdown",
   "metadata": {
    "id": "cltP_P6l4V6u"
   },
   "source": [
    "RESPUESTA:"
   ]
  },
  {
   "cell_type": "markdown",
   "metadata": {},
   "source": [
    "Primero definiremos los atributos del data y lo guardaremos en una variable llamada 'feature_names'. Luego, crearemos la funcion, la cual nos permitira entender la frecuencia de cada valor que tome la variable a partir de un histograma. Ademas, describiremos cada variable obteniendo diferentes medidas descriptivas, como cuartiles y percentiles."
   ]
  },
  {
   "cell_type": "code",
   "execution_count": 6,
   "metadata": {},
   "outputs": [],
   "source": [
    "feature_names = X.columns.tolist() # Guardamos cada variable en una lista para poder graficar\n",
    "feature_mapping = {\n",
    "    'battery_power' : 'Capacidad de la bateria',\n",
    "    'ram' : 'RAM Memory',\n",
    "    'fc' : 'Megapixels frontal camera',\n",
    "    'price_range' : 'Price range'\n",
    "}"
   ]
  },
  {
   "cell_type": "code",
   "execution_count": 7,
   "metadata": {},
   "outputs": [],
   "source": [
    "def plot_hist(feature): # Funcion que realiza un histograma sin escalamiento \n",
    "    X_ = X[feature].tolist()\n",
    "    title = feature\n",
    "    xlabel = feature_mapping[feature]\n",
    "    x, bins, patches = plt.hist(x=X_, color='green', bins='auto', rwidth=0.3)\n",
    "    plt.grid(axis='y')\n",
    "    plt.xlabel(xlabel)\n",
    "    plt.ylabel('Frequency')\n",
    "    plt.title(title)\n",
    "    maxfreq = x.max()\n",
    "    plt.ylim(ymax=np.ceil(maxfreq))"
   ]
  },
  {
   "cell_type": "markdown",
   "metadata": {},
   "source": [
    "### Battery Power"
   ]
  },
  {
   "cell_type": "code",
   "execution_count": 8,
   "metadata": {},
   "outputs": [
    {
     "data": {
      "text/plain": [
       "count    2000.000000\n",
       "mean     1238.518500\n",
       "std       439.418206\n",
       "min       501.000000\n",
       "25%       851.750000\n",
       "50%      1226.000000\n",
       "75%      1615.250000\n",
       "max      1998.000000\n",
       "Name: battery_power, dtype: float64"
      ]
     },
     "execution_count": 8,
     "metadata": {},
     "output_type": "execute_result"
    },
    {
     "data": {
      "image/png": "[encoded data removed]",
      "text/plain": [
       "<Figure size 640x480 with 1 Axes>"
      ]
     },
     "metadata": {},
     "output_type": "display_data"
    }
   ],
   "source": [
    "plot_hist('battery_power')\n",
    "X['battery_power'].describe(include='all')\n"
   ]
  },
  {
   "cell_type": "markdown",
   "metadata": {},
   "source": [
    "Por ejemplo, si asumimos que la capacidad de bateria es de amperios-hora, dado el grafico podemos notar que existe una cantidad _equitativa_ de celulares con respecto a la capacidad de carga que presentan (existen 2000 celulares en total). Es decir, por ejemplo, aproximadamente existen 160 celulares con una capacidad de carga entre 500 y 600 (Ah), y entre 150-160 celulares con una capacidad de carga cercana a 2000 (Ah). Por otra parte, podemos notar que el 50% de los celulares contienen una capacidad de carga de 1226 Ah y un promedio de 1238 Ah. "
   ]
  },
  {
   "cell_type": "markdown",
   "metadata": {},
   "source": [
    "### Memory RAM"
   ]
  },
  {
   "cell_type": "code",
   "execution_count": 9,
   "metadata": {},
   "outputs": [
    {
     "data": {
      "text/plain": [
       "count    2000.000000\n",
       "mean     2124.213000\n",
       "std      1084.732044\n",
       "min       256.000000\n",
       "25%      1207.500000\n",
       "50%      2146.500000\n",
       "75%      3064.500000\n",
       "max      3998.000000\n",
       "Name: ram, dtype: float64"
      ]
     },
     "execution_count": 9,
     "metadata": {},
     "output_type": "execute_result"
    },
    {
     "data": {
      "image/png": "[encoded data removed]",
      "text/plain": [
       "<Figure size 640x480 with 1 Axes>"
      ]
     },
     "metadata": {},
     "output_type": "display_data"
    }
   ],
   "source": [
    "plot_hist('ram')\n",
    "X['ram'].describe(include='all')"
   ]
  },
  {
   "cell_type": "markdown",
   "metadata": {},
   "source": [
    "Al igual que la bateria, existe una cantidad _balanceada_ de celulares que contienen una cantidad diferente de memoria RAM. Por ejemplo, no es mucha la diferencia entre la cantidad de celulares que tienen cerca de 500 memoria de RAM y 3500 de RAM. Asimismo, dada las medidas descriptivas, podemos notar que sobre el 50% de los celulares contienen una memoria de RAM de 2146, y en promedio es de 2124 de RAM. "
   ]
  },
  {
   "cell_type": "markdown",
   "metadata": {},
   "source": [
    "### Megapixels frontal camera"
   ]
  },
  {
   "cell_type": "code",
   "execution_count": 10,
   "metadata": {},
   "outputs": [
    {
     "data": {
      "text/plain": [
       "count    2000.000000\n",
       "mean        4.309500\n",
       "std         4.341444\n",
       "min         0.000000\n",
       "25%         1.000000\n",
       "50%         3.000000\n",
       "75%         7.000000\n",
       "max        19.000000\n",
       "Name: fc, dtype: float64"
      ]
     },
     "execution_count": 10,
     "metadata": {},
     "output_type": "execute_result"
    },
    {
     "data": {
      "image/png": "[encoded data removed]",
      "text/plain": [
       "<Figure size 640x480 with 1 Axes>"
      ]
     },
     "metadata": {},
     "output_type": "display_data"
    }
   ],
   "source": [
    "plot_hist('fc')\n",
    "X['fc'].describe(include='all')"
   ]
  },
  {
   "cell_type": "markdown",
   "metadata": {},
   "source": [
    "Dado el grafico anterior, podemos notar que dentro del set de datos existen celulares con baja resolucion de camara, ya que existe una gran cantidad de celulares superior al resto que contiene alrededor de 0 a 2.5 megapixeles en la camara frontal. Ademas, tambien existen pocos celulares una camara de alta resolucion, ya que sobre el 75% de los celulares contienen 7MP, siendo que el maximo de megapixeles alcanzados es de 19MP. "
   ]
  },
  {
   "cell_type": "markdown",
   "metadata": {},
   "source": [
    "### Price Range"
   ]
  },
  {
   "cell_type": "code",
   "execution_count": 11,
   "metadata": {},
   "outputs": [
    {
     "data": {
      "text/plain": [
       "count    2000.000000\n",
       "mean        1.500000\n",
       "std         1.118314\n",
       "min         0.000000\n",
       "25%         0.750000\n",
       "50%         1.500000\n",
       "75%         2.250000\n",
       "max         3.000000\n",
       "Name: price_range, dtype: float64"
      ]
     },
     "execution_count": 11,
     "metadata": {},
     "output_type": "execute_result"
    },
    {
     "data": {
      "image/png": "[encoded data removed]",
      "text/plain": [
       "<Figure size 640x480 with 1 Axes>"
      ]
     },
     "metadata": {},
     "output_type": "display_data"
    }
   ],
   "source": [
    "# En el caso del rango de precios, utilizaremos un grafico de conteo para mejor visualizacion de los datos\n",
    "sns.countplot(data=X, x='price_range', palette='Blues')\n",
    "X['price_range'].describe(include='all')"
   ]
  },
  {
   "cell_type": "markdown",
   "metadata": {},
   "source": [
    "Dado el grafico, podemos notar que existe una cantidad exactamente igual de celulares que son valorizados por ser muy baratos, ni barato ni caro, caro, y muy caro. \n",
    "- Low cost: 500 celulares\n",
    "- Medium cost: 500 celulares\n",
    "- High cost: 500 celulares\n",
    "- Very high cost: 500 celulares"
   ]
  },
  {
   "cell_type": "markdown",
   "metadata": {},
   "source": [
    "### Relacion entre Precio-RAM, Precio-FC, y Precio-BatteryPower"
   ]
  },
  {
   "cell_type": "markdown",
   "metadata": {},
   "source": [
    "Para la representacion entre el rango de precios y el resto de variables utilizaremos un diagrama de cajas con el fin de analizar profundamente como se comporta los valores que toma cada variable en funcion de las categorias del precio. Asimismo, utilizaremos percentiles para analizar la distribucion de los celulares (segun su capacidad de bateria, ram y megapixeles) con respecto al rango de precio que son clasificados. "
   ]
  },
  {
   "cell_type": "code",
   "execution_count": 12,
   "metadata": {},
   "outputs": [],
   "source": [
    "def box_plot(feature): # Grafico que ilustra 4 diagramas de cajas (categorizados segun el rango de precios) en relacion a la variable que compararemos. \n",
    "    sns.boxplot(x = 'price_range', y = feature, data = X, palette = 'Set2')\n",
    "    plt.xlabel('Rango de precios - 0 = Low Cost / 1 = Medium Cost / 2 = High Cost / 3 = Very High Cost')\n",
    "    plt.title(f'Grafico de relacion Rango de precio y {feature_mapping[feature]}')\n",
    "    plt.ylabel(feature)\n",
    "    plt.show()"
   ]
  },
  {
   "cell_type": "markdown",
   "metadata": {},
   "source": [
    "#### Diagramas de cajas de Capacidad de carga / RAM / Megapixeles, en funcion al rango de precio "
   ]
  },
  {
   "cell_type": "code",
   "execution_count": 13,
   "metadata": {},
   "outputs": [
    {
     "data": {
      "image/png": "[encoded data removed]",
      "text/plain": [
       "<Figure size 640x480 with 1 Axes>"
      ]
     },
     "metadata": {},
     "output_type": "display_data"
    },
    {
     "data": {
      "image/png": "[encoded data removed]",
      "text/plain": [
       "<Figure size 640x480 with 1 Axes>"
      ]
     },
     "metadata": {},
     "output_type": "display_data"
    },
    {
     "data": {
      "image/png": "[encoded data removed]",
      "text/plain": [
       "<Figure size 640x480 with 1 Axes>"
      ]
     },
     "metadata": {},
     "output_type": "display_data"
    }
   ],
   "source": [
    "box_plot('battery_power')\n",
    "box_plot('ram')\n",
    "box_plot('fc')"
   ]
  },
  {
   "cell_type": "markdown",
   "metadata": {},
   "source": [
    "Podemos notar que para la capacidad de bateria y la RAM de cada celular esta directamente relacionado segun que tan caro sea el celular. En este sentido, si el celular tiene un precio barato, entonces tanto la capacidad de bateria como la memoria RAM será baja. Mientras que para el caso de los megapixeles de la camara frontal, el precio no es muy influyente. \n",
    "\n",
    "Especificamente, podemos analizar que:\n",
    "* Para la capacidad de carga, podemos notar que sobre el 50% de los celulares baratos tienen una capacidad de bateria entre 1000 y 1200 Ah. Mientras que para los celulares muy caros esta capacidad es cercana a los 1400. \n",
    "* Para la memoria RAM, se ve una _extremada_ diferencia en relacion al precio. Mas del 50% de los celulares caros tienen una memoria RAM de 3500. Mientras que sobre el 50% de los mas baratos es de  750 aproximadamente. \n",
    "* Para los megapixeles de la camara frontal, sobre el 50% de los celulares que clasifica en cualquier categoria de precio, contiene aproximadamente 2.5 MP. \n"
   ]
  },
  {
   "cell_type": "markdown",
   "metadata": {
    "id": "sChl830E4V6v"
   },
   "source": [
    "## 1.3 Normalizar datos (8 puntos)\n",
    "\n",
    "Realice un proceso de normalización, considerando **SOLO** las siguientes variables:\n",
    "\n",
    "* 'battery_power',\n",
    "* 'clock_speed',\n",
    "* 'fc',\n",
    "* 'int_memory',\n",
    "* 'm_dep',\n",
    "* 'mobile_wt',\n",
    "* 'n_cores',\n",
    "* 'pc',\n",
    "* 'px_height',\n",
    "* 'px_width',\n",
    "* 'ram',\n",
    "* 'sc_h',\n",
    "* 'sc_w',\n",
    "* 'talk_time'\n",
    "\n",
    "\n",
    "Explique por qué es útil realizar esta acción."
   ]
  },
  {
   "cell_type": "markdown",
   "metadata": {
    "id": "CkKlMrf9E1FZ"
   },
   "source": [
    "RESPUESTA:"
   ]
  },
  {
   "cell_type": "code",
   "execution_count": 14,
   "metadata": {
    "id": "4BSa3gfWI3OZ"
   },
   "outputs": [],
   "source": [
    "columns_names = ['battery_power', 'clock_speed', 'fc', 'int_memory', 'm_dep', 'mobile_wt', 'n_cores', 'pc', 'px_height', 'px_width', 'ram', 'sc_h', 'sc_w', 'talk_time']\n",
    "scaler = preprocessing.MinMaxScaler()\n",
    "X_ = scaler.fit_transform(X[columns_names]) # Realizamos un escalamiento para solo los atributos de 'columns_names'"
   ]
  },
  {
   "cell_type": "markdown",
   "metadata": {},
   "source": [
    "Al Realizar una normalizacion de datos, como es en el caso de un escalamiento, nos permite definir un intervalo de valor igual para todas las variables, por lo que asi es mas facil poder comparar entre variables con dominios distintos. MinMaxScaler es un tipo de normalizacion que nos permite transformar cada caracteristica dentro de un intervalo comun. "
   ]
  },
  {
   "cell_type": "markdown",
   "metadata": {
    "id": "mgHuKOyu4V6w"
   },
   "source": [
    "### Bonus: Investigar medida de asociación lineal (3 décimas)\n",
    "\n",
    "Investigue una medida de asociación lineal entre variables cuantitativas. Describa sus principales características, poniendo énfasis en la interpretación de sus resultados. Luego, calcule la medida respectiva para los datos cuantitativos ya normalizados en el punto 1.3. ¿Qué variables tienen la mayor relación?"
   ]
  },
  {
   "cell_type": "markdown",
   "metadata": {
    "id": "CzQsUQf14V6x"
   },
   "source": [
    "RESPUESTA:"
   ]
  },
  {
   "cell_type": "markdown",
   "metadata": {},
   "source": [
    "**Coefficiente de correlacion de Pearson**"
   ]
  },
  {
   "cell_type": "markdown",
   "metadata": {},
   "source": [
    "Para analizar el grado de asociacion lineal entre variables cuantitativas utilizaremos el _coeficiente de correlacion de Pearson (r)_. El coeficiente de correlacion de Pearson es una medida de correlacion lineal que permite describir el grado de asociacion entre pares de variables. El valor de este coeficiente puede tomar un rango de valor entre -1 y 1. \n",
    "$$r = \\frac{{}\\sum_{i=1}^{n} (x_i - \\overline{x})(y_i - \\overline{y})}\n",
    "{\\sqrt{\\sum_{i=1}^{n} (x_i - \\overline{x})^2  \\sum_{i=1}^{n}(y_i - \\overline{y})^2}}$$\n",
    "\n",
    "* Si $-1 <= r < 0$, entonces la relacion entre dos variables es opuesta, es decir, si una variable cambia en una direccion, el valor de la otra variable camnbia en la direccion opuesta (correlacion negativa fuerte). \n",
    "* Si $r = 0$, entonces la relacion entre las dos bariables es nula. \n",
    "* Si $0 < r <= 1$, entonces la relacion entre dos variables es fuerte (correlacion positiva fuerte), es decir, ambas variables cambian de valores en la misma dirección. \n",
    "\n",
    "En este sentido, para el dataset normalizado anterior, podemos utilizar esta herramienta para poder visualizar que variables tienen mayor grado de asociacion"
   ]
  },
  {
   "cell_type": "code",
   "execution_count": 15,
   "metadata": {},
   "outputs": [],
   "source": [
    "df_X_ = pd.DataFrame(X_, columns = columns_names) # Transformamos el numpy array a un dataframe"
   ]
  },
  {
   "cell_type": "code",
   "execution_count": 16,
   "metadata": {},
   "outputs": [
    {
     "data": {
      "text/html": [
       "<div>\n",
       "<style scoped>\n",
       "    .dataframe tbody tr th:only-of-type {\n",
       "        vertical-align: middle;\n",
       "    }\n",
       "\n",
       "    .dataframe tbody tr th {\n",
       "        vertical-align: top;\n",
       "    }\n",
       "\n",
       "    .dataframe thead th {\n",
       "        text-align: right;\n",
       "    }\n",
       "</style>\n",
       "<table border=\"1\" class=\"dataframe\">\n",
       "  <thead>\n",
       "    <tr style=\"text-align: right;\">\n",
       "      <th></th>\n",
       "      <th>battery_power</th>\n",
       "      <th>clock_speed</th>\n",
       "      <th>fc</th>\n",
       "      <th>int_memory</th>\n",
       "      <th>m_dep</th>\n",
       "      <th>mobile_wt</th>\n",
       "      <th>n_cores</th>\n",
       "      <th>pc</th>\n",
       "      <th>px_height</th>\n",
       "      <th>px_width</th>\n",
       "      <th>ram</th>\n",
       "      <th>sc_h</th>\n",
       "      <th>sc_w</th>\n",
       "      <th>talk_time</th>\n",
       "    </tr>\n",
       "  </thead>\n",
       "  <tbody>\n",
       "    <tr>\n",
       "      <th>battery_power</th>\n",
       "      <td>1.000000</td>\n",
       "      <td>0.011482</td>\n",
       "      <td>0.033334</td>\n",
       "      <td>-0.004004</td>\n",
       "      <td>0.034085</td>\n",
       "      <td>0.001844</td>\n",
       "      <td>-0.029727</td>\n",
       "      <td>0.031441</td>\n",
       "      <td>0.014901</td>\n",
       "      <td>-0.008402</td>\n",
       "      <td>-0.000653</td>\n",
       "      <td>-0.029959</td>\n",
       "      <td>-0.021421</td>\n",
       "      <td>0.052510</td>\n",
       "    </tr>\n",
       "    <tr>\n",
       "      <th>clock_speed</th>\n",
       "      <td>0.011482</td>\n",
       "      <td>1.000000</td>\n",
       "      <td>-0.000434</td>\n",
       "      <td>0.006545</td>\n",
       "      <td>-0.014364</td>\n",
       "      <td>0.012350</td>\n",
       "      <td>-0.005724</td>\n",
       "      <td>-0.005245</td>\n",
       "      <td>-0.014523</td>\n",
       "      <td>-0.009476</td>\n",
       "      <td>0.003443</td>\n",
       "      <td>-0.029078</td>\n",
       "      <td>-0.007378</td>\n",
       "      <td>-0.011432</td>\n",
       "    </tr>\n",
       "    <tr>\n",
       "      <th>fc</th>\n",
       "      <td>0.033334</td>\n",
       "      <td>-0.000434</td>\n",
       "      <td>1.000000</td>\n",
       "      <td>-0.029133</td>\n",
       "      <td>-0.001791</td>\n",
       "      <td>0.023618</td>\n",
       "      <td>-0.013356</td>\n",
       "      <td>0.644595</td>\n",
       "      <td>-0.009990</td>\n",
       "      <td>-0.005176</td>\n",
       "      <td>0.015099</td>\n",
       "      <td>-0.011014</td>\n",
       "      <td>-0.012373</td>\n",
       "      <td>-0.006829</td>\n",
       "    </tr>\n",
       "    <tr>\n",
       "      <th>int_memory</th>\n",
       "      <td>-0.004004</td>\n",
       "      <td>0.006545</td>\n",
       "      <td>-0.029133</td>\n",
       "      <td>1.000000</td>\n",
       "      <td>0.006886</td>\n",
       "      <td>-0.034214</td>\n",
       "      <td>-0.028310</td>\n",
       "      <td>-0.033273</td>\n",
       "      <td>0.010441</td>\n",
       "      <td>-0.008335</td>\n",
       "      <td>0.032813</td>\n",
       "      <td>0.037771</td>\n",
       "      <td>0.011731</td>\n",
       "      <td>-0.002790</td>\n",
       "    </tr>\n",
       "    <tr>\n",
       "      <th>m_dep</th>\n",
       "      <td>0.034085</td>\n",
       "      <td>-0.014364</td>\n",
       "      <td>-0.001791</td>\n",
       "      <td>0.006886</td>\n",
       "      <td>1.000000</td>\n",
       "      <td>0.021756</td>\n",
       "      <td>-0.003504</td>\n",
       "      <td>0.026282</td>\n",
       "      <td>0.025263</td>\n",
       "      <td>0.023566</td>\n",
       "      <td>-0.009434</td>\n",
       "      <td>-0.025348</td>\n",
       "      <td>-0.018388</td>\n",
       "      <td>0.017003</td>\n",
       "    </tr>\n",
       "    <tr>\n",
       "      <th>mobile_wt</th>\n",
       "      <td>0.001844</td>\n",
       "      <td>0.012350</td>\n",
       "      <td>0.023618</td>\n",
       "      <td>-0.034214</td>\n",
       "      <td>0.021756</td>\n",
       "      <td>1.000000</td>\n",
       "      <td>-0.018989</td>\n",
       "      <td>0.018844</td>\n",
       "      <td>0.000939</td>\n",
       "      <td>0.000090</td>\n",
       "      <td>-0.002581</td>\n",
       "      <td>-0.033855</td>\n",
       "      <td>-0.020761</td>\n",
       "      <td>0.006209</td>\n",
       "    </tr>\n",
       "    <tr>\n",
       "      <th>n_cores</th>\n",
       "      <td>-0.029727</td>\n",
       "      <td>-0.005724</td>\n",
       "      <td>-0.013356</td>\n",
       "      <td>-0.028310</td>\n",
       "      <td>-0.003504</td>\n",
       "      <td>-0.018989</td>\n",
       "      <td>1.000000</td>\n",
       "      <td>-0.001193</td>\n",
       "      <td>-0.006872</td>\n",
       "      <td>0.024480</td>\n",
       "      <td>0.004868</td>\n",
       "      <td>-0.000315</td>\n",
       "      <td>0.025826</td>\n",
       "      <td>0.013148</td>\n",
       "    </tr>\n",
       "    <tr>\n",
       "      <th>pc</th>\n",
       "      <td>0.031441</td>\n",
       "      <td>-0.005245</td>\n",
       "      <td>0.644595</td>\n",
       "      <td>-0.033273</td>\n",
       "      <td>0.026282</td>\n",
       "      <td>0.018844</td>\n",
       "      <td>-0.001193</td>\n",
       "      <td>1.000000</td>\n",
       "      <td>-0.018465</td>\n",
       "      <td>0.004196</td>\n",
       "      <td>0.028984</td>\n",
       "      <td>0.004938</td>\n",
       "      <td>-0.023819</td>\n",
       "      <td>0.014657</td>\n",
       "    </tr>\n",
       "    <tr>\n",
       "      <th>px_height</th>\n",
       "      <td>0.014901</td>\n",
       "      <td>-0.014523</td>\n",
       "      <td>-0.009990</td>\n",
       "      <td>0.010441</td>\n",
       "      <td>0.025263</td>\n",
       "      <td>0.000939</td>\n",
       "      <td>-0.006872</td>\n",
       "      <td>-0.018465</td>\n",
       "      <td>1.000000</td>\n",
       "      <td>0.510664</td>\n",
       "      <td>-0.020352</td>\n",
       "      <td>0.059615</td>\n",
       "      <td>0.043038</td>\n",
       "      <td>-0.010645</td>\n",
       "    </tr>\n",
       "    <tr>\n",
       "      <th>px_width</th>\n",
       "      <td>-0.008402</td>\n",
       "      <td>-0.009476</td>\n",
       "      <td>-0.005176</td>\n",
       "      <td>-0.008335</td>\n",
       "      <td>0.023566</td>\n",
       "      <td>0.000090</td>\n",
       "      <td>0.024480</td>\n",
       "      <td>0.004196</td>\n",
       "      <td>0.510664</td>\n",
       "      <td>1.000000</td>\n",
       "      <td>0.004105</td>\n",
       "      <td>0.021599</td>\n",
       "      <td>0.034699</td>\n",
       "      <td>0.006720</td>\n",
       "    </tr>\n",
       "    <tr>\n",
       "      <th>ram</th>\n",
       "      <td>-0.000653</td>\n",
       "      <td>0.003443</td>\n",
       "      <td>0.015099</td>\n",
       "      <td>0.032813</td>\n",
       "      <td>-0.009434</td>\n",
       "      <td>-0.002581</td>\n",
       "      <td>0.004868</td>\n",
       "      <td>0.028984</td>\n",
       "      <td>-0.020352</td>\n",
       "      <td>0.004105</td>\n",
       "      <td>1.000000</td>\n",
       "      <td>0.015996</td>\n",
       "      <td>0.035576</td>\n",
       "      <td>0.010820</td>\n",
       "    </tr>\n",
       "    <tr>\n",
       "      <th>sc_h</th>\n",
       "      <td>-0.029959</td>\n",
       "      <td>-0.029078</td>\n",
       "      <td>-0.011014</td>\n",
       "      <td>0.037771</td>\n",
       "      <td>-0.025348</td>\n",
       "      <td>-0.033855</td>\n",
       "      <td>-0.000315</td>\n",
       "      <td>0.004938</td>\n",
       "      <td>0.059615</td>\n",
       "      <td>0.021599</td>\n",
       "      <td>0.015996</td>\n",
       "      <td>1.000000</td>\n",
       "      <td>0.506144</td>\n",
       "      <td>-0.017335</td>\n",
       "    </tr>\n",
       "    <tr>\n",
       "      <th>sc_w</th>\n",
       "      <td>-0.021421</td>\n",
       "      <td>-0.007378</td>\n",
       "      <td>-0.012373</td>\n",
       "      <td>0.011731</td>\n",
       "      <td>-0.018388</td>\n",
       "      <td>-0.020761</td>\n",
       "      <td>0.025826</td>\n",
       "      <td>-0.023819</td>\n",
       "      <td>0.043038</td>\n",
       "      <td>0.034699</td>\n",
       "      <td>0.035576</td>\n",
       "      <td>0.506144</td>\n",
       "      <td>1.000000</td>\n",
       "      <td>-0.022821</td>\n",
       "    </tr>\n",
       "    <tr>\n",
       "      <th>talk_time</th>\n",
       "      <td>0.052510</td>\n",
       "      <td>-0.011432</td>\n",
       "      <td>-0.006829</td>\n",
       "      <td>-0.002790</td>\n",
       "      <td>0.017003</td>\n",
       "      <td>0.006209</td>\n",
       "      <td>0.013148</td>\n",
       "      <td>0.014657</td>\n",
       "      <td>-0.010645</td>\n",
       "      <td>0.006720</td>\n",
       "      <td>0.010820</td>\n",
       "      <td>-0.017335</td>\n",
       "      <td>-0.022821</td>\n",
       "      <td>1.000000</td>\n",
       "    </tr>\n",
       "  </tbody>\n",
       "</table>\n",
       "</div>"
      ],
      "text/plain": [
       "               battery_power  clock_speed        fc  int_memory     m_dep   \n",
       "battery_power       1.000000     0.011482  0.033334   -0.004004  0.034085  \\\n",
       "clock_speed         0.011482     1.000000 -0.000434    0.006545 -0.014364   \n",
       "fc                  0.033334    -0.000434  1.000000   -0.029133 -0.001791   \n",
       "int_memory         -0.004004     0.006545 -0.029133    1.000000  0.006886   \n",
       "m_dep               0.034085    -0.014364 -0.001791    0.006886  1.000000   \n",
       "mobile_wt           0.001844     0.012350  0.023618   -0.034214  0.021756   \n",
       "n_cores            -0.029727    -0.005724 -0.013356   -0.028310 -0.003504   \n",
       "pc                  0.031441    -0.005245  0.644595   -0.033273  0.026282   \n",
       "px_height           0.014901    -0.014523 -0.009990    0.010441  0.025263   \n",
       "px_width           -0.008402    -0.009476 -0.005176   -0.008335  0.023566   \n",
       "ram                -0.000653     0.003443  0.015099    0.032813 -0.009434   \n",
       "sc_h               -0.029959    -0.029078 -0.011014    0.037771 -0.025348   \n",
       "sc_w               -0.021421    -0.007378 -0.012373    0.011731 -0.018388   \n",
       "talk_time           0.052510    -0.011432 -0.006829   -0.002790  0.017003   \n",
       "\n",
       "               mobile_wt   n_cores        pc  px_height  px_width       ram   \n",
       "battery_power   0.001844 -0.029727  0.031441   0.014901 -0.008402 -0.000653  \\\n",
       "clock_speed     0.012350 -0.005724 -0.005245  -0.014523 -0.009476  0.003443   \n",
       "fc              0.023618 -0.013356  0.644595  -0.009990 -0.005176  0.015099   \n",
       "int_memory     -0.034214 -0.028310 -0.033273   0.010441 -0.008335  0.032813   \n",
       "m_dep           0.021756 -0.003504  0.026282   0.025263  0.023566 -0.009434   \n",
       "mobile_wt       1.000000 -0.018989  0.018844   0.000939  0.000090 -0.002581   \n",
       "n_cores        -0.018989  1.000000 -0.001193  -0.006872  0.024480  0.004868   \n",
       "pc              0.018844 -0.001193  1.000000  -0.018465  0.004196  0.028984   \n",
       "px_height       0.000939 -0.006872 -0.018465   1.000000  0.510664 -0.020352   \n",
       "px_width        0.000090  0.024480  0.004196   0.510664  1.000000  0.004105   \n",
       "ram            -0.002581  0.004868  0.028984  -0.020352  0.004105  1.000000   \n",
       "sc_h           -0.033855 -0.000315  0.004938   0.059615  0.021599  0.015996   \n",
       "sc_w           -0.020761  0.025826 -0.023819   0.043038  0.034699  0.035576   \n",
       "talk_time       0.006209  0.013148  0.014657  -0.010645  0.006720  0.010820   \n",
       "\n",
       "                   sc_h      sc_w  talk_time  \n",
       "battery_power -0.029959 -0.021421   0.052510  \n",
       "clock_speed   -0.029078 -0.007378  -0.011432  \n",
       "fc            -0.011014 -0.012373  -0.006829  \n",
       "int_memory     0.037771  0.011731  -0.002790  \n",
       "m_dep         -0.025348 -0.018388   0.017003  \n",
       "mobile_wt     -0.033855 -0.020761   0.006209  \n",
       "n_cores       -0.000315  0.025826   0.013148  \n",
       "pc             0.004938 -0.023819   0.014657  \n",
       "px_height      0.059615  0.043038  -0.010645  \n",
       "px_width       0.021599  0.034699   0.006720  \n",
       "ram            0.015996  0.035576   0.010820  \n",
       "sc_h           1.000000  0.506144  -0.017335  \n",
       "sc_w           0.506144  1.000000  -0.022821  \n",
       "talk_time     -0.017335 -0.022821   1.000000  "
      ]
     },
     "execution_count": 16,
     "metadata": {},
     "output_type": "execute_result"
    }
   ],
   "source": [
    "df_X_.corr() # Sacamos la correlacion entre todos los atributos "
   ]
  },
  {
   "cell_type": "markdown",
   "metadata": {},
   "source": [
    "Considerando el valor que toma el coeficiente de correlacion, podemos identificar que los megapixeles de la **camara frontal (fc)** y los megapixeles de la **camara trasera (pc)** tienen el grado de asociacion mas alto, con un valor de **0.644595**. Esto implica que, a mayor cantidad de MP de la camara frontal del celular, entonces tendremos mas cantidad de MP en la camara trasera. \n"
   ]
  },
  {
   "cell_type": "markdown",
   "metadata": {
    "id": "lY4csAUx4V6x"
   },
   "source": [
    "# Parte 2: Reducción de dimensionalidad (15 puntos)"
   ]
  },
  {
   "cell_type": "markdown",
   "metadata": {
    "id": "GvtDm6AyIyCR"
   },
   "source": [
    "En esta segunda sección se debe utilizar el resultado 1.3 de la parte 1. Para reducir la dimensionalidad, se debe trabajar con **Principal Component Analysis (PCA)**."
   ]
  },
  {
   "cell_type": "markdown",
   "metadata": {
    "id": "94PKIxrWIQgB"
   },
   "source": [
    "### 2.1 Comportamiento de la varianza (5 puntos)\n",
    "\n",
    "Grafique el comportamiento de la varianza en función del número de componentes. Comente."
   ]
  },
  {
   "cell_type": "markdown",
   "metadata": {
    "id": "m4BcKz_p9Lou"
   },
   "source": [
    "RESPUESTA:"
   ]
  },
  {
   "cell_type": "code",
   "execution_count": 17,
   "metadata": {},
   "outputs": [
    {
     "data": {
      "text/plain": [
       "(2000, 14)"
      ]
     },
     "execution_count": 17,
     "metadata": {},
     "output_type": "execute_result"
    }
   ],
   "source": [
    "X_.shape"
   ]
  },
  {
   "cell_type": "code",
   "execution_count": 18,
   "metadata": {
    "id": "ZnTG0YdHJFBx"
   },
   "outputs": [
    {
     "data": {
      "text/plain": [
       "PCA(n_components=14)"
      ]
     },
     "execution_count": 18,
     "metadata": {},
     "output_type": "execute_result"
    }
   ],
   "source": [
    "pca = decomposition.PCA(n_components = 14) # La cantidad de componentes sera la minima entre 14 y 2000 --> 14\n",
    "pca.fit(X_)"
   ]
  },
  {
   "cell_type": "code",
   "execution_count": 19,
   "metadata": {},
   "outputs": [
    {
     "data": {
      "image/png": "[encoded data removed]",
      "text/plain": [
       "<Figure size 640x480 with 1 Axes>"
      ]
     },
     "metadata": {},
     "output_type": "display_data"
    }
   ],
   "source": [
    "# grafico de la varianza explicada\n",
    "def plot_var_curve(X): \n",
    "    plt.plot(X, lw=4)\n",
    "    plt.grid(axis='y')\n",
    "    plt.xlabel('Components')\n",
    "    plt.ylabel('Variance')\n",
    "    plt.title('Explained variance')\n",
    "plot_var_curve(pca.explained_variance_ratio_)\n"
   ]
  },
  {
   "cell_type": "markdown",
   "metadata": {},
   "source": [
    "Podemos notar que en la componente 9, la varianza tiene una pendiente que tiende a ser horizontal, por lo que en este codo podemos inferir que hasta los 10 o 11 componentes podemos captar una cantidad importante de informacion del set de datos. Despues de los 11 componentes, existe una pendiente negativa 'drastica'. En este sentido,podemos decir que desde la componente 11 en adelante no se presenta una mayor varianza, y no retiene de manera significativa la informacion. \n",
    "Tambien podemos notar que existe un codo para la componente 2, ya que la varianza se mantiene casi constante. \n",
    "Por lo tanto, podemos elegir alguna de los 2 codos identificados (2 o 11) para reducir la dimensionalidad sin perder informacion significativa y capturar la mayor cantidad de varianza posible.\n"
   ]
  },
  {
   "cell_type": "markdown",
   "metadata": {
    "id": "6akiBdvS4V6x"
   },
   "source": [
    "### 2.2 Retener 90% de la varianza (5 puntos)\n",
    "\n",
    "PCA debe retener un 90% de la varianza de los datos originales. ¿Cuál es el número de componentes que se requieren?"
   ]
  },
  {
   "cell_type": "markdown",
   "metadata": {
    "id": "Dzakeo4kTzJK"
   },
   "source": [
    "RESPUESTA:"
   ]
  },
  {
   "cell_type": "code",
   "execution_count": 20,
   "metadata": {
    "id": "7D07i8m5JKPA"
   },
   "outputs": [
    {
     "data": {
      "text/plain": [
       "11"
      ]
     },
     "execution_count": 20,
     "metadata": {},
     "output_type": "execute_result"
    }
   ],
   "source": [
    "def min_var(v,exp_var): # captamos cuantas componentes necesito para retener el 90% de la varianza del dataset\n",
    "    acc = 0\n",
    "    i=0\n",
    "    while acc < v:\n",
    "        acc += exp_var[i]\n",
    "        i += 1\n",
    "    return i\n",
    "min_var(0.9, pca.explained_variance_ratio_)"
   ]
  },
  {
   "cell_type": "markdown",
   "metadata": {},
   "source": [
    "Se necesitan 11 componentes necesarios para reducir la dimensionalidad sin perder informacion significativa.  🚀"
   ]
  },
  {
   "cell_type": "markdown",
   "metadata": {
    "id": "-xVPrLYd4V6x"
   },
   "source": [
    "### 2.3 Reducir dimensionalidad a n=6 (5 puntos)\n",
    "\n",
    "PCA debe construirse con dimensionalidad n=6. Determine la proporción de varianza explicada."
   ]
  },
  {
   "cell_type": "markdown",
   "metadata": {
    "id": "yyGGWcg3JMM5"
   },
   "source": [
    "RESPUESTA:"
   ]
  },
  {
   "cell_type": "code",
   "execution_count": 31,
   "metadata": {
    "id": "nOXpep--JOH5"
   },
   "outputs": [
    {
     "data": {
      "text/plain": [
       "0.6610385338609344"
      ]
     },
     "execution_count": 31,
     "metadata": {},
     "output_type": "execute_result"
    }
   ],
   "source": [
    "# Obtenemos la varianza explicada para cada componente, considerando la construccion del PCA con dimensionalidad n=6.\n",
    "pca_2 = decomposition.PCA(n_components = 6)\n",
    "pca_2.fit(X_)\n",
    "# Como el atributo explained_variance_ nos retorna un arreglo con la cantidad de varianza explicada por cada componente, \n",
    "# entonces asumi que la proporcion total de varianza explicada seria la suma de este arreglo. Es decir: \n",
    "sum(pca_2.explained_variance_)\n",
    "# Por lo tanto, la proporcion de varianza explicada para un PCA con n=6 es de 0.661, aproximadamente."
   ]
  },
  {
   "cell_type": "markdown",
   "metadata": {},
   "source": [
    "Del resultado anterior podemos inferir que si la proporcion total de varianza explicada es de 0.661, entonces podemos decir que existe un 66,1% de variabilidad dentro de los datos que estan siendo explicados con 6 componentes. "
   ]
  },
  {
   "cell_type": "markdown",
   "metadata": {
    "id": "GaUsFp9v5yqM"
   },
   "source": [
    "## Parte 3: Detección de outliers (10 puntos)"
   ]
  },
  {
   "cell_type": "markdown",
   "metadata": {
    "id": "hu0m5hkql9Ov"
   },
   "source": [
    "En esta tercera parte se debe evaluar la existencia de outliers en el conjunto de datos que solo contiene variables cuantitativas. Para ello, debe trabajar con la matriz obtenida en el punto 2.2 (retiene el 90% de la varianza)."
   ]
  },
  {
   "cell_type": "code",
   "execution_count": 32,
   "metadata": {},
   "outputs": [
    {
     "data": {
      "text/plain": [
       "(2000, 11)"
      ]
     },
     "execution_count": 32,
     "metadata": {},
     "output_type": "execute_result"
    }
   ],
   "source": [
    "\"\"\"\n",
    "Antes de empezar, ajustaremos la cantidad de componentes necesarias dentro del set de datos normalizados en el punto 1.3.\n",
    "Para ello, reduciremos la dimensionalidad necesaria con solamente 11 componentes, segun lo obtenido en el punto 2.2. \n",
    "\"\"\"\n",
    "pca_3 = decomposition.PCA(n_components = 11)\n",
    "X_reduced = pca_3.fit_transform(X_)\n",
    "X_reduced.shape"
   ]
  },
  {
   "cell_type": "markdown",
   "metadata": {
    "id": "rEXWDY4DnKoX"
   },
   "source": [
    "### 3.1 Graficar histograma LOF (5 puntos)\n",
    "\n",
    "Utilizando la técnica **Local Outlier Factor (LOF)**, construya un histograma de puntajes LOF. Considere un número de vecinos igual a 5 y use como métrica la distancia euclidiana."
   ]
  },
  {
   "cell_type": "markdown",
   "metadata": {
    "id": "93Plndk2Jp3p"
   },
   "source": [
    "RESPUESTA:"
   ]
  },
  {
   "cell_type": "code",
   "execution_count": 33,
   "metadata": {},
   "outputs": [],
   "source": [
    "# Definimos la funcion que realizara el histograma de puntajes LOF\n",
    "def plot_hist_lof(X, title):\n",
    "    x, bins, patches = plt.hist(x=X, bins='auto', color=\"orange\", rwidth=0.85)\n",
    "    plt.grid(axis='y')\n",
    "    plt.xlabel('LOF')\n",
    "    plt.ylabel('Frequency')\n",
    "    plt.title(title)\n",
    "    maxfreq = x.max()\n",
    "    plt.ylim(ymax=np.ceil(maxfreq))"
   ]
  },
  {
   "cell_type": "code",
   "execution_count": 34,
   "metadata": {
    "id": "iWVOFpm6Jrpi"
   },
   "outputs": [
    {
     "data": {
      "image/png": "[encoded data removed]",
      "text/plain": [
       "<Figure size 640x480 with 1 Axes>"
      ]
     },
     "metadata": {},
     "output_type": "display_data"
    }
   ],
   "source": [
    "lof = neighbors.LocalOutlierFactor(n_neighbors = 5, metric = 'euclidean')\n",
    "lof.fit_predict(X_reduced)\n",
    "scores = lof.negative_outlier_factor_\n",
    "plot_hist_lof(scores, 'LOF scores') # Obtenemos el histograma"
   ]
  },
  {
   "cell_type": "markdown",
   "metadata": {
    "id": "pT-24UYmreTn"
   },
   "source": [
    "### 3.2 Identificar datos atípicos (5 puntos)\n",
    "\n",
    "En base al histograma del punto 3.1, y considerando un umbral de corte igual a -1,15, determine los datos atípicos del dataset. ¿Qué proporción de datos corresponden a outliers?\n",
    "\n",
    "Luego, elimine los datos atípicos del conjunto de datos evaluado."
   ]
  },
  {
   "cell_type": "markdown",
   "metadata": {
    "id": "PoHNR8TaJyNh"
   },
   "source": [
    "RESPUESTA:"
   ]
  },
  {
   "cell_type": "code",
   "execution_count": 35,
   "metadata": {
    "id": "V6zHlhvtJze4"
   },
   "outputs": [
    {
     "data": {
      "text/plain": [
       "0.03"
      ]
     },
     "execution_count": 35,
     "metadata": {},
     "output_type": "execute_result"
    }
   ],
   "source": [
    "# Definiremos la siguiente funcion lof_threshold, la cual entrega la proporcion de datos que corresponden a outliers. \n",
    "# Dado un umbral de corte, los datos que se encuentren despues de este valor, seran considerados como outliers. \n",
    "def lof_threshold(v,scores):\n",
    "    N = len(scores)\n",
    "    points = scores[scores < v]\n",
    "    threshold = len(points)/N\n",
    "    return threshold\n",
    "lof_threshold(-1.15, scores)"
   ]
  },
  {
   "cell_type": "markdown",
   "metadata": {},
   "source": [
    "Dado el resultado anterior, podemos afirmar que existen un 3% de datos del total que son considerados como outliers, para un umbral de corte igual a -1,15. \n",
    "Es decir, la contaminacion del medio es de un 3%"
   ]
  },
  {
   "cell_type": "code",
   "execution_count": 152,
   "metadata": {},
   "outputs": [],
   "source": [
    "# Ahora eliminaremos los outliers del set de datos, definiendo nuevamente la variable lof pero considerando una contaminacion del medio de un 0.03\n",
    "lof = neighbors.LocalOutlierFactor(n_neighbors = 5, metric = 'euclidean', contamination=0.03)\n",
    "labels = lof.fit_predict(X_reduced)"
   ]
  },
  {
   "cell_type": "code",
   "execution_count": 37,
   "metadata": {},
   "outputs": [],
   "source": [
    "X_cleaned = X_reduced[np.where(labels==1)]"
   ]
  },
  {
   "cell_type": "code",
   "execution_count": 38,
   "metadata": {},
   "outputs": [
    {
     "data": {
      "text/plain": [
       "(1940, 11)"
      ]
     },
     "execution_count": 38,
     "metadata": {},
     "output_type": "execute_result"
    }
   ],
   "source": [
    "X_cleaned.shape"
   ]
  },
  {
   "cell_type": "markdown",
   "metadata": {},
   "source": [
    "Definimos como *X_cleaned* la variable que guardara solo los datos inliers. Como los outliers (o _datos atipicos_) se consideran el 3% del total, estos serian 60 de 2000 datos en total, por lo que nos quedamos con 1940 datos de nuestra muestra de datos. \n"
   ]
  },
  {
   "cell_type": "markdown",
   "metadata": {
    "id": "o2mjswwg51Lb"
   },
   "source": [
    "## Parte 4: Clasificación (15 puntos)"
   ]
  },
  {
   "cell_type": "markdown",
   "metadata": {
    "id": "sglwjyrLvoI_"
   },
   "source": [
    "En esta última sección debe entrenar un clasificador basado en k-nearest neighbors. Para ello, debe considerar el resultado del punto 3.2. Es decir, el conjunto de datos que no contiene datos atípicos."
   ]
  },
  {
   "cell_type": "markdown",
   "metadata": {
    "id": "RhFvbvge54h7"
   },
   "source": [
    "### 4.1 Separar train y test (4 puntos)\n",
    "\n",
    "Tomando en consideración el resultado del punto 3.2, separe el conjunto de datos en train (75%) y test (25%). Utilice **price_range** como variable de respuesta (y).\n",
    "\n",
    "Luego, para y_train e y_test, determine la cantidad de elementos de cada clase.\n",
    "\n",
    "**Observación:**\n",
    "\n",
    "Para trabajar con la variable **price_range**, debe eliminar los registros clasificados como atípicos en el dataset original de Mobile Price. Considere que la dimensión del vector **price_range** debe coincidir con el número de filas del conjunto de datos del punto 3.2."
   ]
  },
  {
   "cell_type": "markdown",
   "metadata": {
    "id": "8IEJBQv6x1Ln"
   },
   "source": [
    "RESPUESTA:"
   ]
  },
  {
   "cell_type": "code",
   "execution_count": 165,
   "metadata": {},
   "outputs": [
    {
     "name": "stdout",
     "output_type": "stream",
     "text": [
      "(1940,)\n",
      "(1940, 11)\n"
     ]
    }
   ],
   "source": [
    "# Definimos el vector price_range \n",
    "y = X['price_range'].values\n",
    "# Luego eliminamos los outliers en base a los indices obtenidos\n",
    "index = list(np.where(labels==1)[0])\n",
    "y = y[index,]\n",
    "print(y.shape) # Ajustamos la dimension de la variable de respuesta acorde a la dimension de X_cleaned\n",
    "print(X_cleaned.shape) \n"
   ]
  },
  {
   "cell_type": "code",
   "execution_count": 166,
   "metadata": {},
   "outputs": [],
   "source": [
    "# Ahora separaremos el conjunto de datos en train 75% y test 25% utilizando como variable de respuesta el vector de price_range\n",
    "X_train, X_test, y_train, y_test = model_selection.train_test_split(X_cleaned, y, test_size = 0.25)"
   ]
  },
  {
   "cell_type": "code",
   "execution_count": 175,
   "metadata": {},
   "outputs": [
    {
     "name": "stdout",
     "output_type": "stream",
     "text": [
      "{0, 1, 2, 3}\n",
      "{0, 1, 2, 3}\n"
     ]
    }
   ],
   "source": [
    "print(set(y_train))\n",
    "print(set(y_test))\n",
    "# Como podemos notar, presentamos cuatro clases principales para el vector price_range {0, 1, 2, 3}, por lo tanto\n",
    "# crearemos un diccionario para cada una y contaremos la cantidad de elemento para cada clase. "
   ]
  },
  {
   "cell_type": "code",
   "execution_count": null,
   "metadata": {},
   "outputs": [],
   "source": [
    "classes_y_train = {0 : 0, 1 : 0, 2 : 0, 3 : 0}\n",
    "classes_y_test = {0 : 0, 1 : 0, 2 : 0, 3 : 0}\n"
   ]
  },
  {
   "cell_type": "markdown",
   "metadata": {
    "id": "1SaOgo2y6BYf"
   },
   "source": [
    "### 4.2 Aplicar clasificador KNeighborsClassifier (7 puntos)\n",
    "\n",
    "Determine el número de vecinos entre los siguientes valores: 2, 3, 4, 5, 6 y 7. Considere la métrica score para tomar la decisión."
   ]
  },
  {
   "cell_type": "markdown",
   "metadata": {
    "id": "tAJuvqblKKec"
   },
   "source": [
    "RESPUESTA:"
   ]
  },
  {
   "cell_type": "code",
   "execution_count": null,
   "metadata": {
    "id": "rqd6xEtZKMhL"
   },
   "outputs": [],
   "source": []
  },
  {
   "cell_type": "markdown",
   "metadata": {
    "id": "E-oi1vms6GFp"
   },
   "source": [
    "### 4.3 Evaluar clasificador por clase (4 puntos)\n",
    "\n",
    "Utilizando el mejor clasificador, identificado en el punto 4.2, evalúe el rendimiento por clase."
   ]
  },
  {
   "cell_type": "markdown",
   "metadata": {
    "id": "Ei2s1pWTKQeT"
   },
   "source": [
    "RESPUESTA:"
   ]
  },
  {
   "cell_type": "code",
   "execution_count": null,
   "metadata": {
    "id": "0W0h5oLQKTir"
   },
   "outputs": [],
   "source": []
  }
 ],
 "metadata": {
  "colab": {
   "provenance": []
  },
  "kernelspec": {
   "display_name": "Python 3 (ipykernel)",
   "language": "python",
   "name": "python3"
  },
  "language_info": {
   "codemirror_mode": {
    "name": "ipython",
    "version": 3
   },
   "file_extension": ".py",
   "mimetype": "text/x-python",
   "name": "python",
   "nbconvert_exporter": "python",
   "pygments_lexer": "ipython3",
   "version": "3.8.10"
  }
 },
 "nbformat": 4,
 "nbformat_minor": 1
}
