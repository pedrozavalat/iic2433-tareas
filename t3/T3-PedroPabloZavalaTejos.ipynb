{
  "cells": [
    {
      "cell_type": "markdown",
      "metadata": {
        "id": "V3B6kdIC0A8j"
      },
      "source": [
        "Pontificia Universidad Católica de Chile <br>\n",
        "Departamento de Ciencia de la Computación <br>\n",
        "IIC2433 - Minería de Datos\n",
        "<br>\n",
        "\n",
        "<center>\n",
        "    <h2> Tarea 3 </h2>\n",
        "    <h1> GMM y KNN </h1>\n",
        "    <p>\n",
        "        Profesor Marcelo Mendoza<br>\n",
        "        Segundo Semestre 2023<br>    \n",
        "        Fecha de entrega: Viernes 29 de Septiembre\n",
        "    </p>\n",
        "    <br>\n",
        "</center>\n",
        "\n",
        "<br>\n"
      ]
    },
    {
      "cell_type": "markdown",
      "metadata": {
        "id": "cx4hXVuL2Lv-"
      },
      "source": [
        "## Indicaciones\n",
        "\n",
        "Deberás entregar **SOLO** el archivo .ipynb en el buzón respectivo en canvas.\n",
        "\n",
        "**IMPORTANTE**:\n",
        "- Se te dará puntaje tanto por código como por la manera en la que respondas las preguntas planteadas. Es decir, si tienes un código perfecto pero este no es explicado o no se responden preguntas asociadas a este, no se tendrá el puntaje completo.\n",
        "- El notebook debe tener todas las celdas de código ejecutadas. Cualquier notebook que no las tenga no podrá ser corregido.\n",
        "- El carácter de esta tarea es **INDIVIDUAL**. Cualquier instancia de copia resultará en un 1,1 como nota de curso.\n",
        "- En el caso de que se encuentren con problemas al correr celdas por el tamaño del dataset, esta permitido trabajar con una muestra representativa de este, siempre explicitando y justificando sus deciciones.\n",
        "\n",
        "---\n"
      ]
    },
    {
      "cell_type": "markdown",
      "metadata": {
        "id": "0D20JLCp2NQy"
      },
      "source": [
        "## Librerías"
      ]
    },
    {
      "cell_type": "code",
      "execution_count": 2,
      "metadata": {
        "id": "jxFL6JoZ2k9D"
      },
      "outputs": [],
      "source": [
        "##Importa acá las librerias que vayas a utilizar\n",
        "import numpy as np\n",
        "import matplotlib.pyplot as plt\n",
        "import pandas as pd\n",
        "import seaborn as sns\n",
        "\n",
        "from sklearn.decomposition import PCA\n",
        "from sklearn import preprocessing\n",
        "from sklearn.model_selection import train_test_split\n",
        "from sklearn.neighbors import KNeighborsClassifier\n",
        "from sklearn.metrics import classification_report\n",
        "import plotly.express as px\n",
        "from sklearn.mixture import GaussianMixture"
      ]
    },
    {
      "cell_type": "markdown",
      "metadata": {
        "id": "Ekyt7Ph2KSvj"
      },
      "source": [
        "#Seed"
      ]
    },
    {
      "cell_type": "code",
      "execution_count": 3,
      "metadata": {
        "id": "503_wUhwKXh2"
      },
      "outputs": [],
      "source": [
        "from random import seed\n",
        "\n",
        "seed(2433)\n",
        "#No cambiar la seed ya que se usara para su recorrecion"
      ]
    },
    {
      "cell_type": "markdown",
      "metadata": {
        "id": "aAwvXdDO36uO"
      },
      "source": [
        "# Parte 1: Carga y Preprocesamiento (10 puntos)\n",
        "\n",
        "## 1.1 Carga de datos (2 puntos)\n",
        "\n",
        "Para esta tarea deberás trabajar con el dataset que está en Canvas."
      ]
    },
    {
      "cell_type": "code",
      "execution_count": 4,
      "metadata": {
        "id": "1-i0-ESpQrOb"
      },
      "outputs": [],
      "source": [
        "digits = pd.read_csv('digits.csv')"
      ]
    },
    {
      "cell_type": "markdown",
      "metadata": {
        "id": "CjqBcwhUGa2j"
      },
      "source": [
        "## 1.2 Descripcion del Dataset (4 puntos)"
      ]
    },
    {
      "cell_type": "markdown",
      "metadata": {
        "id": "ptkeso4_NZbp"
      },
      "source": [
        "\n",
        "\n",
        "#### ¿Qué representa cada fila en el dataset entregado? (2 puntos)\n",
        "\n",
        "RESPUESTA:\n"
      ]
    },
    {
      "cell_type": "code",
      "execution_count": 5,
      "metadata": {},
      "outputs": [
        {
          "data": {
            "text/html": [
              "<div>\n",
              "<style scoped>\n",
              "    .dataframe tbody tr th:only-of-type {\n",
              "        vertical-align: middle;\n",
              "    }\n",
              "\n",
              "    .dataframe tbody tr th {\n",
              "        vertical-align: top;\n",
              "    }\n",
              "\n",
              "    .dataframe thead th {\n",
              "        text-align: right;\n",
              "    }\n",
              "</style>\n",
              "<table border=\"1\" class=\"dataframe\">\n",
              "  <thead>\n",
              "    <tr style=\"text-align: right;\">\n",
              "      <th></th>\n",
              "      <th>label</th>\n",
              "      <th>pixel0</th>\n",
              "      <th>pixel1</th>\n",
              "      <th>pixel2</th>\n",
              "      <th>pixel3</th>\n",
              "      <th>pixel4</th>\n",
              "      <th>pixel5</th>\n",
              "      <th>pixel6</th>\n",
              "      <th>pixel7</th>\n",
              "      <th>pixel8</th>\n",
              "      <th>...</th>\n",
              "      <th>pixel774</th>\n",
              "      <th>pixel775</th>\n",
              "      <th>pixel776</th>\n",
              "      <th>pixel777</th>\n",
              "      <th>pixel778</th>\n",
              "      <th>pixel779</th>\n",
              "      <th>pixel780</th>\n",
              "      <th>pixel781</th>\n",
              "      <th>pixel782</th>\n",
              "      <th>pixel783</th>\n",
              "    </tr>\n",
              "  </thead>\n",
              "  <tbody>\n",
              "    <tr>\n",
              "      <th>0</th>\n",
              "      <td>1</td>\n",
              "      <td>0</td>\n",
              "      <td>0</td>\n",
              "      <td>0</td>\n",
              "      <td>0</td>\n",
              "      <td>0</td>\n",
              "      <td>0</td>\n",
              "      <td>0</td>\n",
              "      <td>0</td>\n",
              "      <td>0</td>\n",
              "      <td>...</td>\n",
              "      <td>0</td>\n",
              "      <td>0</td>\n",
              "      <td>0</td>\n",
              "      <td>0</td>\n",
              "      <td>0</td>\n",
              "      <td>0</td>\n",
              "      <td>0</td>\n",
              "      <td>0</td>\n",
              "      <td>0</td>\n",
              "      <td>0</td>\n",
              "    </tr>\n",
              "    <tr>\n",
              "      <th>1</th>\n",
              "      <td>0</td>\n",
              "      <td>0</td>\n",
              "      <td>0</td>\n",
              "      <td>0</td>\n",
              "      <td>0</td>\n",
              "      <td>0</td>\n",
              "      <td>0</td>\n",
              "      <td>0</td>\n",
              "      <td>0</td>\n",
              "      <td>0</td>\n",
              "      <td>...</td>\n",
              "      <td>0</td>\n",
              "      <td>0</td>\n",
              "      <td>0</td>\n",
              "      <td>0</td>\n",
              "      <td>0</td>\n",
              "      <td>0</td>\n",
              "      <td>0</td>\n",
              "      <td>0</td>\n",
              "      <td>0</td>\n",
              "      <td>0</td>\n",
              "    </tr>\n",
              "    <tr>\n",
              "      <th>2</th>\n",
              "      <td>1</td>\n",
              "      <td>0</td>\n",
              "      <td>0</td>\n",
              "      <td>0</td>\n",
              "      <td>0</td>\n",
              "      <td>0</td>\n",
              "      <td>0</td>\n",
              "      <td>0</td>\n",
              "      <td>0</td>\n",
              "      <td>0</td>\n",
              "      <td>...</td>\n",
              "      <td>0</td>\n",
              "      <td>0</td>\n",
              "      <td>0</td>\n",
              "      <td>0</td>\n",
              "      <td>0</td>\n",
              "      <td>0</td>\n",
              "      <td>0</td>\n",
              "      <td>0</td>\n",
              "      <td>0</td>\n",
              "      <td>0</td>\n",
              "    </tr>\n",
              "    <tr>\n",
              "      <th>3</th>\n",
              "      <td>4</td>\n",
              "      <td>0</td>\n",
              "      <td>0</td>\n",
              "      <td>0</td>\n",
              "      <td>0</td>\n",
              "      <td>0</td>\n",
              "      <td>0</td>\n",
              "      <td>0</td>\n",
              "      <td>0</td>\n",
              "      <td>0</td>\n",
              "      <td>...</td>\n",
              "      <td>0</td>\n",
              "      <td>0</td>\n",
              "      <td>0</td>\n",
              "      <td>0</td>\n",
              "      <td>0</td>\n",
              "      <td>0</td>\n",
              "      <td>0</td>\n",
              "      <td>0</td>\n",
              "      <td>0</td>\n",
              "      <td>0</td>\n",
              "    </tr>\n",
              "    <tr>\n",
              "      <th>4</th>\n",
              "      <td>0</td>\n",
              "      <td>0</td>\n",
              "      <td>0</td>\n",
              "      <td>0</td>\n",
              "      <td>0</td>\n",
              "      <td>0</td>\n",
              "      <td>0</td>\n",
              "      <td>0</td>\n",
              "      <td>0</td>\n",
              "      <td>0</td>\n",
              "      <td>...</td>\n",
              "      <td>0</td>\n",
              "      <td>0</td>\n",
              "      <td>0</td>\n",
              "      <td>0</td>\n",
              "      <td>0</td>\n",
              "      <td>0</td>\n",
              "      <td>0</td>\n",
              "      <td>0</td>\n",
              "      <td>0</td>\n",
              "      <td>0</td>\n",
              "    </tr>\n",
              "  </tbody>\n",
              "</table>\n",
              "<p>5 rows × 785 columns</p>\n",
              "</div>"
            ],
            "text/plain": [
              "   label  pixel0  pixel1  pixel2  pixel3  pixel4  pixel5  pixel6  pixel7   \n",
              "0      1       0       0       0       0       0       0       0       0  \\\n",
              "1      0       0       0       0       0       0       0       0       0   \n",
              "2      1       0       0       0       0       0       0       0       0   \n",
              "3      4       0       0       0       0       0       0       0       0   \n",
              "4      0       0       0       0       0       0       0       0       0   \n",
              "\n",
              "   pixel8  ...  pixel774  pixel775  pixel776  pixel777  pixel778  pixel779   \n",
              "0       0  ...         0         0         0         0         0         0  \\\n",
              "1       0  ...         0         0         0         0         0         0   \n",
              "2       0  ...         0         0         0         0         0         0   \n",
              "3       0  ...         0         0         0         0         0         0   \n",
              "4       0  ...         0         0         0         0         0         0   \n",
              "\n",
              "   pixel780  pixel781  pixel782  pixel783  \n",
              "0         0         0         0         0  \n",
              "1         0         0         0         0  \n",
              "2         0         0         0         0  \n",
              "3         0         0         0         0  \n",
              "4         0         0         0         0  \n",
              "\n",
              "[5 rows x 785 columns]"
            ]
          },
          "execution_count": 5,
          "metadata": {},
          "output_type": "execute_result"
        }
      ],
      "source": [
        "digits.head()"
      ]
    },
    {
      "cell_type": "markdown",
      "metadata": {},
      "source": [
        "👉🏻 En base al dataset **digits** entregado, podemos decir que cada fila representa una imagen de un digito (entre 0 y 9, inclusive), y todas las columnas, excepto label, contienen la informacion de la imagen del digito en cuestion (ubicado en la columna _label_). \n",
        "\n",
        "En resumen, las columnas pixel-0 a pixel-783 contienen la informacion de la imagen del digito, y la columna label contiene el digito al que corresponde la imagen.\n"
      ]
    },
    {
      "cell_type": "markdown",
      "metadata": {
        "id": "5JSFOZ7lRzA5"
      },
      "source": [
        "#### ¿Es posible en este dataset eliminar columnas sin afectar de manera significativa los datos? ¿Por qué? (2 puntos)\n",
        "\n",
        "REPUESTA:"
      ]
    },
    {
      "cell_type": "markdown",
      "metadata": {},
      "source": [
        "👉🏻 Diria que no seria posible eliminar columnas sin afectar de manera significativa los datos para todos los casos. Ya que, en base al dataset entregado, tenemos que cada digito es representado por una imagen que contiene 784 pixeles, es decir, el digito se podria representar en una imagen de 28x28 pixeles. Por lo tanto, la eliminacion de un pixel podria afectar en la prediccion de un digito dentro de un modelo predictivo. Por ejemplo para el digito 8, podria ocurrir un caso critico en donde se elimina el pixel cuya ubicacion se encuentra justamente en la \"interseccion\" de los dos circulos que conforman el digito 8, y por lo tanto, el modelo podria predecir que el digito es un 0, ya que no se encuentra el pixel que \"une\" los dos circulos."
      ]
    },
    {
      "cell_type": "markdown",
      "metadata": {
        "id": "YeCYvsCyRXUU"
      },
      "source": [
        "## 1.3 Determina si existen datos nulos. En caso de que existan, eliminalos del dataset. (2 puntos)\n",
        "\n",
        "RESPUESTA:"
      ]
    },
    {
      "cell_type": "code",
      "execution_count": 6,
      "metadata": {},
      "outputs": [
        {
          "data": {
            "text/html": [
              "<div>\n",
              "<style scoped>\n",
              "    .dataframe tbody tr th:only-of-type {\n",
              "        vertical-align: middle;\n",
              "    }\n",
              "\n",
              "    .dataframe tbody tr th {\n",
              "        vertical-align: top;\n",
              "    }\n",
              "\n",
              "    .dataframe thead th {\n",
              "        text-align: right;\n",
              "    }\n",
              "</style>\n",
              "<table border=\"1\" class=\"dataframe\">\n",
              "  <thead>\n",
              "    <tr style=\"text-align: right;\">\n",
              "      <th></th>\n",
              "      <th>label</th>\n",
              "      <th>pixel0</th>\n",
              "      <th>pixel1</th>\n",
              "      <th>pixel2</th>\n",
              "      <th>pixel3</th>\n",
              "      <th>pixel4</th>\n",
              "      <th>pixel5</th>\n",
              "      <th>pixel6</th>\n",
              "      <th>pixel7</th>\n",
              "      <th>pixel8</th>\n",
              "      <th>...</th>\n",
              "      <th>pixel774</th>\n",
              "      <th>pixel775</th>\n",
              "      <th>pixel776</th>\n",
              "      <th>pixel777</th>\n",
              "      <th>pixel778</th>\n",
              "      <th>pixel779</th>\n",
              "      <th>pixel780</th>\n",
              "      <th>pixel781</th>\n",
              "      <th>pixel782</th>\n",
              "      <th>pixel783</th>\n",
              "    </tr>\n",
              "  </thead>\n",
              "  <tbody>\n",
              "  </tbody>\n",
              "</table>\n",
              "<p>0 rows × 785 columns</p>\n",
              "</div>"
            ],
            "text/plain": [
              "Empty DataFrame\n",
              "Columns: [label, pixel0, pixel1, pixel2, pixel3, pixel4, pixel5, pixel6, pixel7, pixel8, pixel9, pixel10, pixel11, pixel12, pixel13, pixel14, pixel15, pixel16, pixel17, pixel18, pixel19, pixel20, pixel21, pixel22, pixel23, pixel24, pixel25, pixel26, pixel27, pixel28, pixel29, pixel30, pixel31, pixel32, pixel33, pixel34, pixel35, pixel36, pixel37, pixel38, pixel39, pixel40, pixel41, pixel42, pixel43, pixel44, pixel45, pixel46, pixel47, pixel48, pixel49, pixel50, pixel51, pixel52, pixel53, pixel54, pixel55, pixel56, pixel57, pixel58, pixel59, pixel60, pixel61, pixel62, pixel63, pixel64, pixel65, pixel66, pixel67, pixel68, pixel69, pixel70, pixel71, pixel72, pixel73, pixel74, pixel75, pixel76, pixel77, pixel78, pixel79, pixel80, pixel81, pixel82, pixel83, pixel84, pixel85, pixel86, pixel87, pixel88, pixel89, pixel90, pixel91, pixel92, pixel93, pixel94, pixel95, pixel96, pixel97, pixel98, ...]\n",
              "Index: []\n",
              "\n",
              "[0 rows x 785 columns]"
            ]
          },
          "execution_count": 6,
          "metadata": {},
          "output_type": "execute_result"
        }
      ],
      "source": [
        "digits[digits.isnull().any(axis=1)] \n",
        "# Podemos verificar que ninguna fila tiene valores nulos"
      ]
    },
    {
      "cell_type": "markdown",
      "metadata": {
        "id": "Yhm6ZjBnRix7"
      },
      "source": [
        "## 1.4 Manejo del Dataset (2 puntos)\n",
        "Normaliza los valores de las columnas del dataset. ¿Por qué esto es importante?\n",
        "\n",
        "RESPUESTA:"
      ]
    },
    {
      "cell_type": "code",
      "execution_count": 7,
      "metadata": {},
      "outputs": [],
      "source": [
        "y = digits['label'] # Guardamos el vector de etiquetas como variable de respuesta\n",
        "digits.drop(columns=['label'], inplace=True) # Eliminamos la columna de etiquetas del dataset\n",
        "X = digits # Nuevo data-set sin la columna de etiquetas\n"
      ]
    },
    {
      "cell_type": "code",
      "execution_count": 8,
      "metadata": {},
      "outputs": [],
      "source": [
        "# Normalizaremos los datos con el metodo MinMaxScaler\n",
        "scaler = preprocessing.StandardScaler()\n",
        "X_scaled = scaler.fit_transform(X)"
      ]
    },
    {
      "cell_type": "markdown",
      "metadata": {},
      "source": [
        "👉🏻 Realizar el metodo de normalizacion StandardScaler nos permite determinar todos los valores del dataset con media cero y desviacion estandar 1. Esto implica un mejor procesamiento de los datos al llevarlos a cabo dentro de un modelo, por lo que nos permite generar predicciones mas acertadas. En este sentido, al tener los datos estandarizados con la misma media y desviacion nos permitira obtener resultados menos redundantes, y considerando que trabajaremos con el modelo GMM, tener los datos distribuidos normalmente nos permitira tener mejores resultados, ya que GMM asume que los datos siguen una distribucion gaussianda normal. "
      ]
    },
    {
      "cell_type": "markdown",
      "metadata": {
        "id": "KVspTAuVGsUM"
      },
      "source": [
        "# Parte 2: Preguntas Teóricas (10 puntos)"
      ]
    },
    {
      "cell_type": "markdown",
      "metadata": {
        "id": "1SKkVE2ZGyMP"
      },
      "source": [
        "### 2.1 ¿Qué es un modelo Gaussian Mixtures? ¿En qué escenarios funciona bien y en qué mal? Refierete a esto según el dataset. (5 puntos)\n",
        "\n",
        "RESPUESTA:"
      ]
    },
    {
      "cell_type": "markdown",
      "metadata": {},
      "source": [
        "👉🏻 Un modelo Gaussian Mixtures es un modelo probabilistico que asume que los datos provienen de una mezcla de distribuciones gaussianas. El objetitvo de GMM es generar datos sinteticos a partir de la estimacion de parametros de una distribucion gaussiana. En este sentido, GMM tiene como idea sintetizar los datos a partir de distribuciones normales, tal que al utilizar un set de datos, obtenemos la probabilidad de observacion condicionada a los parametros estimados, para asi obtener un muestreo de datos estimados. \n",
        "\n",
        "El modelo GMM realiza un algoritmo denominado *Expectative Maximization (EM)*, y cuyo objetivo es maximizar la funcion de log-verosimilitud  para poder obtener los parametros estimados de la distribucion gaussiana que maximizan aquella. Esta funcion nos permite obtener que tan probable es observar cada dato del dataset a partir de los parametros estimados. Por otra parte, EM presenta tres pasos principales para poder obtener los parametros estimados de la distribucion gaussiana que maximizan la funcion de *log-verosimilitud*: \n",
        "\n",
        "1. **Initialization**, inicializa las medias, covarianzas y los pesos de la mezcla\n",
        "2. **Expectative Step (E-Step)**, tiene como objetivo calcular la probabilidad de observacion de cada dato utilizando los parametros estimados del modelo\n",
        "3. **Maximization Step (M-Step)**, tiene como objetivo actualizar los parametros estimados, maximizando la verosimilitud para cada data perteneciente a la distribucion gaussiana, hasta que se alcance la convergencia. \n",
        "\n",
        "En resumen, modelo GMM realiza un _clustering probabilistico_, es decir, asigna a cada dato una distribucion de probabilidad, y no un unico cluster. \n",
        "\n",
        "\n",
        "👉🏻 Como GMM es un modelo de mezcla que asume que todos los datos son generatos por una mezcla de distribuciones gaussiantas, una de las principales ventajas es que funciona de mejor manera cuando el dataset es numerico. Como por ejemplo en el caso de ```digits.csv```, funcionaria de mejor manera que para el caso de un dataset que presente variables categoricas. Esto se debe a que a cada dato se le asigna una distribucion normal. Tambien, otro escenario en donde GMM funciona bien es cuando se presentan grandes cantidades de datos, como es el caso de ```digits.csv``` para poder estimar los parametros de una distribucion gaussiana. Utilizar GMM para realizar clustering en un dataset es una buena opcion, ya que GMM nos provee informacion mas específica en terminos de probabilidades para poder determinar la pertenencia de cada dato a un cluster especifico. \n",
        "\n",
        "Por otra parte, GMM funcionaría mal cuando los datos no se distribuyen de manera normal, ya que GMM asume que los datos son muestras independientes para no interferir en la estimacion de los parametros del modelo. En este sentido, si el dataset ```digits.csv``` no se hubiese estandarizado, probablemente los resultados serian menos acertados, y el muestreo de los datos afectaria al resto de los datos. "
      ]
    },
    {
      "cell_type": "markdown",
      "metadata": {
        "id": "hFZ3P1pYG7K_"
      },
      "source": [
        "### 2.2 Explica qué es Akaike Information Criterion ¿Existe alguno que se ajuste mejor a este dataset? Justifique su respuesta. (5 puntos)\n",
        "\n",
        "RESPUESTA:"
      ]
    },
    {
      "cell_type": "markdown",
      "metadata": {},
      "source": [
        "El **Criterio de Informacion de Akaike** nos permite determinar que tan bien se ajusta un modelo frente a los datos generados. Este se define comom la diferencia entre la complejidad del modelo (k) y el valor maximo de la funcion de verosimilitud (L): \n",
        "$$AIC = 2k - 2\\ln{(L)}$$\n",
        "El objetivo de este criterio tiene como fin encontrar un valor que determine el modelo que se ajusta de mejor manera a los datos segun su complejidad y  verosimilitud. El modelo que presente el valor de AIC mas bajo corresponderá al mejor modelo. En este sentido, entre mas grande la verosimilitud y mas baja la complejidad, sera un buen criterio para escoger la cantidad de k componentes del modelo. \n"
      ]
    },
    {
      "cell_type": "markdown",
      "metadata": {
        "id": "6jIpM5MkHJZY"
      },
      "source": [
        "# Parte 3: GMM (28 puntos)\n"
      ]
    },
    {
      "cell_type": "markdown",
      "metadata": {
        "id": "t-L32NLWHOv4"
      },
      "source": [
        "## 3.1 PCA y Visualizacion Inicial (6 puntos)\n"
      ]
    },
    {
      "cell_type": "markdown",
      "metadata": {
        "id": "Q8p60Dq-SJru"
      },
      "source": [
        "Utiliza PCA de dos dimensiones para colorear los distintos digitos presentes en el dataset. (3 puntos)\n",
        "\n",
        "RESPUESTA:"
      ]
    },
    {
      "cell_type": "markdown",
      "metadata": {
        "id": "TpvHnGD3SLsU"
      },
      "source": [
        "Visualizando los digitos, ¿Cuáles son los que más se parecen entre ellos? Especula en que cantidad de clusters sería posible agrupar a los digitos, fuera de un cluster por cada uno. (3 puntos)\n",
        "\n",
        "RESPUESTA:"
      ]
    },
    {
      "cell_type": "markdown",
      "metadata": {
        "id": "d_weUgr8Q5Uw"
      },
      "source": [
        "# 3.2 Retención Varianza (4 puntos)\n",
        "\n",
        "Encuentre el numero mínimo de componentes para usar en PCA de tal manera que se mantenga un 75% de varianza. (4 puntos)\n",
        "\n",
        "RESPUESTA:"
      ]
    },
    {
      "cell_type": "markdown",
      "metadata": {
        "id": "m3yFZyGgSo0r"
      },
      "source": [
        "# 3.3 Funcion clusterize (5 puntos)\n",
        "\n",
        "Codifica una función que utiliza el modelo `GaussianMixture` de sklearn para separar a los digitos en `n` grupos. Debe retornar un dataframe que contenga la clasificación. Corre el método con `n=10`. (5 puntos)\n",
        "\n",
        "RESPUESTA:"
      ]
    },
    {
      "cell_type": "markdown",
      "metadata": {
        "id": "l2Vx_jfpSseW"
      },
      "source": [
        "# 3.4 Preguntas con GMM (5 puntos)"
      ]
    },
    {
      "cell_type": "markdown",
      "metadata": {
        "id": "Ir4AonZXSvjE"
      },
      "source": [
        "#### 1. Dado cada cluster, ¿Se puede decir que GMM logro agrupar de forma correcta los distintos digitos? (2.5 puntos)\n",
        "\n",
        "RESPUESTA:"
      ]
    },
    {
      "cell_type": "markdown",
      "metadata": {
        "id": "YlrC_Rm8SxY2"
      },
      "source": [
        "#### 2. ¿Existe algún(os) digito que se encuentre repartido en mas de 2 clusters? ¿Cuáles? (2.5 puntos)\n",
        "\n",
        "RESPUESTA:"
      ]
    },
    {
      "cell_type": "markdown",
      "metadata": {
        "id": "dbvjubyTS0jS"
      },
      "source": [
        "# 3.5 Evaluación modelo GMM (5 puntos)\n",
        "\n",
        "Determine el dígito predominante de cada cluster según el número que más se repita por grupo. Con este digito determinado, calcule la precisión de cada dígito al ser clasificado. (5 puntos)\n",
        "\n",
        "RESPUESTA:"
      ]
    },
    {
      "cell_type": "markdown",
      "metadata": {
        "id": "8IpiEoAOS2q2"
      },
      "source": [
        "# 3.6 Agrupación de Dígitos similares (3 puntos)\n",
        "\n",
        "Corre la función clusterize pero ahora solamente con `4` grupos. Registra las nuevas clasificaciones en un dataframe. (3 puntos)\n",
        "\n",
        "RESPUESTA:"
      ]
    },
    {
      "cell_type": "markdown",
      "metadata": {
        "id": "nQI34P5FS4FU"
      },
      "source": [
        "Identifica los digitos que se agruparon en cada cluster y explica la razón de por cual el algoritmo GMM los podría haber agrupado de esa manera.\n",
        "\n",
        "RESPUESTA:"
      ]
    },
    {
      "cell_type": "markdown",
      "metadata": {
        "id": "2ke8WB6xHLfy"
      },
      "source": [
        "# Parte 4: KNN (12 puntos)"
      ]
    },
    {
      "cell_type": "markdown",
      "metadata": {
        "id": "27KJl-dAHSwo"
      },
      "source": [
        "## 4.1 Separar train y test (4 puntos)\n",
        "\n",
        "Toma en cuenta el dataset retornado al correr la función clusterize con `n=10`.\n",
        "Separa el conjunto de datos en train (75%) y test (25%).\n",
        "Utiliza el ***cluster*** al cual pertenece cada dato como variable de respuesta (y). También determina e imprime la cantidad de datos por cada cluster."
      ]
    },
    {
      "cell_type": "markdown",
      "metadata": {
        "id": "wVmyF4YaKACE"
      },
      "source": [
        "RESPUESTA:"
      ]
    },
    {
      "cell_type": "markdown",
      "metadata": {
        "id": "1qI1IHVXKDyJ"
      },
      "source": [
        "## 4.2 Determina el número óptimo de vecinos con KNeighborsClassifier. (4 puntos)\n",
        "Los valores a probar son: 1, 5, 8 y 10. Utiliza la métrica score para justificar tu elección."
      ]
    },
    {
      "cell_type": "markdown",
      "metadata": {
        "id": "SCzN45EaLCjR"
      },
      "source": [
        "RESPUESTA:"
      ]
    },
    {
      "cell_type": "markdown",
      "metadata": {
        "id": "aHF6RpBZLHh2"
      },
      "source": [
        "## 4.3 Evalua el mejor clasificador de 4.2. (4 puntos)\n",
        " Comenta al respecto en el contexto del dataset acerca del rendimiento por cada cluster del mejor clasificador encontrado."
      ]
    },
    {
      "cell_type": "markdown",
      "metadata": {
        "id": "42q6m7eZOGIZ"
      },
      "source": [
        "RESPUESTA:"
      ]
    }
  ],
  "metadata": {
    "colab": {
      "provenance": []
    },
    "kernelspec": {
      "display_name": "Python 3",
      "name": "python3"
    },
    "language_info": {
      "codemirror_mode": {
        "name": "ipython",
        "version": 3
      },
      "file_extension": ".py",
      "mimetype": "text/x-python",
      "name": "python",
      "nbconvert_exporter": "python",
      "pygments_lexer": "ipython3",
      "version": "3.8.10"
    }
  },
  "nbformat": 4,
  "nbformat_minor": 0
}
