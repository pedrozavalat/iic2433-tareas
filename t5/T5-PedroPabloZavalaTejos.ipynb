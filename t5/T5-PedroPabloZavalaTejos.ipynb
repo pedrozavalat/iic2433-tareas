{
  "cells": [
    {
      "cell_type": "markdown",
      "metadata": {
        "id": "V3B6kdIC0A8j"
      },
      "source": [
        "Pontificia Universidad Católica de Chile <br>\n",
        "Departamento de Ciencia de la Computación <br>\n",
        "IIC2433 - Minería de Datos\n",
        "<br>\n",
        "\n",
        "<center>\n",
        "    <h2> Tarea 5 </h2>\n",
        "    <h1> SVM </h1>\n",
        "    <p>\n",
        "        Profesor Marcelo Mendoza<br>\n",
        "        Segundo Semestre 2023<br> \n",
        "        Fecha de entrega: 3 de noviembre\n",
        "    </p>\n",
        "    <br>\n",
        "</center>\n",
        "\n",
        "<br>\n"
      ]
    },
    {
      "cell_type": "markdown",
      "metadata": {
        "id": "cx4hXVuL2Lv-"
      },
      "source": [
        "## Indicaciones\n",
        "\n",
        "Deberás entregar **SOLO** el archivo .ipynb en el buzón respectivo en canvas.\n",
        "\n",
        "**IMPORTANTE**:\n",
        "- Se te dará puntaje tanto por código como por la manera en la que respondas las preguntas planteadas. Es decir, si tienes un código perfecto pero este no es explicado o no se responden preguntas asociadas a este, no se tendrá el puntaje completo.\n",
        "- El notebook debe tener todas las celdas de código ejecutadas. Cualquier notebook que no las tenga no podrá ser corregido.\n",
        "- El carácter de esta tarea es **INDIVIDUAL**. Cualquier instancia de copia resultará en un 1,1 como nota de curso.\n",
        "- En el caso de que se encuentren con problemas al correr celdas por el tamaño del dataset, esta permitido trabajar con una muestra representativa de este, siempre explicitando y justificando sus deciciones.\n",
        "\n",
        "---\n"
      ]
    },
    {
      "cell_type": "markdown",
      "metadata": {
        "id": "0D20JLCp2NQy"
      },
      "source": [
        "## Librerías"
      ]
    },
    {
      "cell_type": "code",
      "execution_count": 81,
      "metadata": {
        "id": "jxFL6JoZ2k9D"
      },
      "outputs": [],
      "source": [
        "##Importa acá las librerias que vayas a utilizar\n",
        "import pandas as pd\n",
        "\n",
        "from sklearn import preprocessing\n",
        "from sklearn.model_selection import train_test_split\n",
        "from sklearn.metrics import classification_report, accuracy_score, confusion_matrix, ConfusionMatrixDisplay\n",
        "from sklearn.svm import SVC\n",
        "from sentence_transformers import SentenceTransformer\n",
        "from sklearn.feature_extraction.text import TfidfVectorizer\n",
        "from sklearn.preprocessing import MinMaxScaler, StandardScaler\n",
        "from sklearn.pipeline import make_pipeline\n",
        "from nltk.corpus import stopwords\n",
        "from nltk.tokenize import RegexpTokenizer, sent_tokenize\n",
        "from nltk.stem import WordNetLemmatizer\n",
        "import numpy as np\n",
        "import matplotlib as plt\n",
        "# from lime.lime_text import LimeTextExplainer"
      ]
    },
    {
      "cell_type": "markdown",
      "metadata": {},
      "source": [
        "# Contexto:"
      ]
    },
    {
      "cell_type": "markdown",
      "metadata": {},
      "source": [
        "Se tiene un dataset con información de distintas noticias, entre las cuales hay noticias falsas y verdaderas. El objetivo de esta tarea es predecir si una noticia es falsa o verdadera, utilizando distintos modelos de clasificación.. Para esto, primero se debe hacer un análisis exploratorio de los datos para decidir qué variables son relevantes para el problema. Luego, se debe vectorizar el texto de loas noticias para poder utilizarlo en un modelo de clasificación (en esta tarea usaremos SBert y TF-IDF). Después se debe entrenar un modelo de clasificación SVM que prediga si una noticia es falsa o verdadera. Finalmente, se debe evaluar el modelo y compararlo con otros modelos de clasificación."
      ]
    },
    {
      "cell_type": "markdown",
      "metadata": {},
      "source": [
        "# Objetivos de la tarea:"
      ]
    },
    {
      "cell_type": "markdown",
      "metadata": {},
      "source": [
        "- Realizar un análisis exploratorio de datos para determinar las variables pertinentes para el problema en cuestión, identificando características clave y patrones en los datos que podrían afectar la clasificación de las noticias.\n",
        "- Dominar la técnica de vectorización de texto para facilitar su aplicación en un modelo de clasificación, y comprender la interpretación de los resultados obtenidos.\n",
        "- Entender el funcionamiento de un modelo de clasificación SVM y sus hiperparámetros.\n",
        "- Entrenar un modelo de clasificación SVM capaz de predecir si una noticia es falsa o verdadera.\n",
        "- Evaluar el desempeño del modelo y analizar en profundidad los resultados obtenidos."
      ]
    },
    {
      "cell_type": "markdown",
      "metadata": {
        "id": "aAwvXdDO36uO"
      },
      "source": [
        "# Parte 1: Carga y Preprocesamiento (10 puntos)\n",
        "\n",
        "## 1.1 Carga de datos (1 punto)\n",
        "\n",
        "Para esta tarea deberás trabajar con el dataset que está en Canvas, 'news.csv'. Este dataset contiene información de distintas noticias, entre las cuales hay noticias falsas y verdaderas."
      ]
    },
    {
      "cell_type": "code",
      "execution_count": 2,
      "metadata": {},
      "outputs": [
        {
          "data": {
            "text/html": [
              "<div>\n",
              "<style scoped>\n",
              "    .dataframe tbody tr th:only-of-type {\n",
              "        vertical-align: middle;\n",
              "    }\n",
              "\n",
              "    .dataframe tbody tr th {\n",
              "        vertical-align: top;\n",
              "    }\n",
              "\n",
              "    .dataframe thead th {\n",
              "        text-align: right;\n",
              "    }\n",
              "</style>\n",
              "<table border=\"1\" class=\"dataframe\">\n",
              "  <thead>\n",
              "    <tr style=\"text-align: right;\">\n",
              "      <th></th>\n",
              "      <th>title</th>\n",
              "      <th>text</th>\n",
              "      <th>subject</th>\n",
              "      <th>date</th>\n",
              "      <th>authenticity</th>\n",
              "    </tr>\n",
              "  </thead>\n",
              "  <tbody>\n",
              "    <tr>\n",
              "      <th>0</th>\n",
              "      <td>Donald Trump Sends Out Embarrassing New Year’...</td>\n",
              "      <td>Donald Trump just couldn t wish all Americans ...</td>\n",
              "      <td>News</td>\n",
              "      <td>December 31, 2017</td>\n",
              "      <td>Fake</td>\n",
              "    </tr>\n",
              "    <tr>\n",
              "      <th>1</th>\n",
              "      <td>Drunk Bragging Trump Staffer Started Russian ...</td>\n",
              "      <td>House Intelligence Committee Chairman Devin Nu...</td>\n",
              "      <td>News</td>\n",
              "      <td>December 31, 2017</td>\n",
              "      <td>Fake</td>\n",
              "    </tr>\n",
              "    <tr>\n",
              "      <th>2</th>\n",
              "      <td>Sheriff David Clarke Becomes An Internet Joke...</td>\n",
              "      <td>On Friday, it was revealed that former Milwauk...</td>\n",
              "      <td>News</td>\n",
              "      <td>December 30, 2017</td>\n",
              "      <td>Fake</td>\n",
              "    </tr>\n",
              "    <tr>\n",
              "      <th>3</th>\n",
              "      <td>Trump Is So Obsessed He Even Has Obama’s Name...</td>\n",
              "      <td>On Christmas day, Donald Trump announced that ...</td>\n",
              "      <td>News</td>\n",
              "      <td>December 29, 2017</td>\n",
              "      <td>Fake</td>\n",
              "    </tr>\n",
              "    <tr>\n",
              "      <th>4</th>\n",
              "      <td>Pope Francis Just Called Out Donald Trump Dur...</td>\n",
              "      <td>Pope Francis used his annual Christmas Day mes...</td>\n",
              "      <td>News</td>\n",
              "      <td>December 25, 2017</td>\n",
              "      <td>Fake</td>\n",
              "    </tr>\n",
              "    <tr>\n",
              "      <th>...</th>\n",
              "      <td>...</td>\n",
              "      <td>...</td>\n",
              "      <td>...</td>\n",
              "      <td>...</td>\n",
              "      <td>...</td>\n",
              "    </tr>\n",
              "    <tr>\n",
              "      <th>9995</th>\n",
              "      <td>U.S. Agriculture secretary nominee submits eth...</td>\n",
              "      <td>(Reuters) - U.S. President Donald Trump’s nomi...</td>\n",
              "      <td>politicsNews</td>\n",
              "      <td>March 13, 2017</td>\n",
              "      <td>Real</td>\n",
              "    </tr>\n",
              "    <tr>\n",
              "      <th>9996</th>\n",
              "      <td>Trump aides attack agency that will analyze he...</td>\n",
              "      <td>WASHINGTON (Reuters) - Aides to U.S. President...</td>\n",
              "      <td>politicsNews</td>\n",
              "      <td>March 12, 2017</td>\n",
              "      <td>Real</td>\n",
              "    </tr>\n",
              "    <tr>\n",
              "      <th>9997</th>\n",
              "      <td>Highlights: The Trump presidency on March 12 a...</td>\n",
              "      <td>(Reuters) - Highlights of the day for U.S. Pre...</td>\n",
              "      <td>politicsNews</td>\n",
              "      <td>March 12, 2017</td>\n",
              "      <td>Real</td>\n",
              "    </tr>\n",
              "    <tr>\n",
              "      <th>9998</th>\n",
              "      <td>Obama lawyers move fast to join fight against ...</td>\n",
              "      <td>WASHINGTON (Reuters) - When Johnathan Smith re...</td>\n",
              "      <td>politicsNews</td>\n",
              "      <td>March 13, 2017</td>\n",
              "      <td>Real</td>\n",
              "    </tr>\n",
              "    <tr>\n",
              "      <th>9999</th>\n",
              "      <td>Mike Pence to tour Asia next month amid securi...</td>\n",
              "      <td>JAKARTA (Reuters) - U.S. Vice President Mike P...</td>\n",
              "      <td>politicsNews</td>\n",
              "      <td>March 13, 2017</td>\n",
              "      <td>Real</td>\n",
              "    </tr>\n",
              "  </tbody>\n",
              "</table>\n",
              "<p>10000 rows × 5 columns</p>\n",
              "</div>"
            ],
            "text/plain": [
              "                                                  title  \\\n",
              "0      Donald Trump Sends Out Embarrassing New Year’...   \n",
              "1      Drunk Bragging Trump Staffer Started Russian ...   \n",
              "2      Sheriff David Clarke Becomes An Internet Joke...   \n",
              "3      Trump Is So Obsessed He Even Has Obama’s Name...   \n",
              "4      Pope Francis Just Called Out Donald Trump Dur...   \n",
              "...                                                 ...   \n",
              "9995  U.S. Agriculture secretary nominee submits eth...   \n",
              "9996  Trump aides attack agency that will analyze he...   \n",
              "9997  Highlights: The Trump presidency on March 12 a...   \n",
              "9998  Obama lawyers move fast to join fight against ...   \n",
              "9999  Mike Pence to tour Asia next month amid securi...   \n",
              "\n",
              "                                                   text       subject  \\\n",
              "0     Donald Trump just couldn t wish all Americans ...          News   \n",
              "1     House Intelligence Committee Chairman Devin Nu...          News   \n",
              "2     On Friday, it was revealed that former Milwauk...          News   \n",
              "3     On Christmas day, Donald Trump announced that ...          News   \n",
              "4     Pope Francis used his annual Christmas Day mes...          News   \n",
              "...                                                 ...           ...   \n",
              "9995  (Reuters) - U.S. President Donald Trump’s nomi...  politicsNews   \n",
              "9996  WASHINGTON (Reuters) - Aides to U.S. President...  politicsNews   \n",
              "9997  (Reuters) - Highlights of the day for U.S. Pre...  politicsNews   \n",
              "9998  WASHINGTON (Reuters) - When Johnathan Smith re...  politicsNews   \n",
              "9999  JAKARTA (Reuters) - U.S. Vice President Mike P...  politicsNews   \n",
              "\n",
              "                   date authenticity  \n",
              "0     December 31, 2017         Fake  \n",
              "1     December 31, 2017         Fake  \n",
              "2     December 30, 2017         Fake  \n",
              "3     December 29, 2017         Fake  \n",
              "4     December 25, 2017         Fake  \n",
              "...                 ...          ...  \n",
              "9995    March 13, 2017          Real  \n",
              "9996    March 12, 2017          Real  \n",
              "9997    March 12, 2017          Real  \n",
              "9998    March 13, 2017          Real  \n",
              "9999    March 13, 2017          Real  \n",
              "\n",
              "[10000 rows x 5 columns]"
            ]
          },
          "execution_count": 2,
          "metadata": {},
          "output_type": "execute_result"
        }
      ],
      "source": [
        "data = pd.read_csv('news.csv', sep=',')\n",
        "data"
      ]
    },
    {
      "cell_type": "code",
      "execution_count": 3,
      "metadata": {},
      "outputs": [
        {
          "data": {
            "text/plain": [
              "array(['News', 'politicsNews'], dtype=object)"
            ]
          },
          "execution_count": 3,
          "metadata": {},
          "output_type": "execute_result"
        }
      ],
      "source": [
        "data['subject'].unique() # Verificamos cuantas categorias presenta el data set en terminos del tipo de noticia"
      ]
    },
    {
      "cell_type": "markdown",
      "metadata": {
        "id": "CjqBcwhUGa2j"
      },
      "source": [
        "## 1.2 Descripcion del Dataset (5 puntos)"
      ]
    },
    {
      "cell_type": "markdown",
      "metadata": {
        "id": "ptkeso4_NZbp"
      },
      "source": [
        "\n",
        "\n",
        "¿Qué representa cada feature en el dataset entregado? Refiérete a su tipo de dato, detallando cómo trabajar con los datos no númericos (2 puntos)\n",
        "\n",
        "RESPUESTA:\n"
      ]
    },
    {
      "cell_type": "markdown",
      "metadata": {},
      "source": [
        "👉🏻 A partir de los atributos visualiazdos en el set de datos, podemos verificar que todas las variables son de tipo texto, excepto date que es de tipo fecha. \n",
        "* ```title```: Representa el titulo de la noticia. Es una variable categorica nominal, ya que no representa un orden propuesto dentro de la tabulacion.  \n",
        "* ```texto```: Representa el contexto de la noticia. Es una variable categorica nominal. \n",
        "Como title y texts no son variables numericas, para poder trabajarlas realizaremos un preprocesamiento el cual consistira en eliminar las palabras comunes \n",
        "y luego utilizar algun lematizador para poder reducir las cadenas de oraciones a su forma base, es decir, reducirlas a su raiz semántica, eliminando \n",
        "prefijos y sufijos. Esto nos permitira reducir la complejidad en cada tupla y analizar comparativamente con el resto del set de datos .\n",
        "* ```date```: Representa la fecha en la cual la noticia fue publicada. Como no es un dato numerico, podemos transformarlo a de tipo numerico para su posterior analisis utilizando \n",
        "el valor en representacion \"Unix Time\". Unix time convierte la fecha actual en la cantidad de segundos desde el primer dia del año. En este sentido, trabajaremos con fechas en segundos \n",
        "para poder compararlos con los otros datos y mejorar analisis. \n",
        "* ```Subject```: Representa el tema relatado en la noticia. En este caso corresponde a una variable categorica nominal. Podemos visualizar que solo contiene dos categorias: News y PolitcNews. En el caso de news representa a un reporte general de un suceso, mientras que PoliticNews esta determinado dentro del contexto de la politica. Por lo tanto, podemos transformar esta caracteristica a una variable numerica binaria: 0 si es News y 1 si es politicNews.  \n",
        "* ```Authenticity```: Representa que tan veridico es la noticia. Es una variable categorica nominal. Presenta dos resultados (Fake/Real). Por lo tanto, podemos trabajar esta variable como una variable binaria. Donde 0 es para el caso de que sea Fake, y 1 si es Real. \n"
      ]
    },
    {
      "cell_type": "markdown",
      "metadata": {
        "id": "5JSFOZ7lRzA5"
      },
      "source": [
        "¿Qué columnas o features crees son relevantes para el problema? ¿Por qué? (3 puntos)\n",
        "\n",
        "RESPUESTA:"
      ]
    },
    {
      "cell_type": "markdown",
      "metadata": {},
      "source": [
        "👉🏻 Por un lado, la variable de respuesta para poder predecir si la noticia es verdadera o falsa sera la columna __authenticity__. Ya que, nos permitiria verificar el rendimiento de nuestro modelo con respecto a los valores reales. Por otro lado, tanto el titulo como el texto nos permitiran verificar a que clase corresponde la noticia, ya que al tener las palabras claves de la noticia nos permitirá clasificar segun el tema que esta referencia. Nos permitirá comparar los resultados entre si y obtener un mejor grado de prediccion. \n"
      ]
    },
    {
      "cell_type": "markdown",
      "metadata": {
        "id": "YeCYvsCyRXUU"
      },
      "source": [
        "## 1.3 Datos nulos (2 puntos)\n",
        "\n",
        "Analiza la presencia de valores nulos en el conjunto de datos y cómo se distribuyen en las distintas columnas. Después, toma una decisión acerca del tratamiento adecuado para el dataframe con respecto a los valores nulos. Justifica tu decisión.\n",
        "\n",
        "RESPUESTA:\n"
      ]
    },
    {
      "cell_type": "code",
      "execution_count": 4,
      "metadata": {},
      "outputs": [
        {
          "data": {
            "text/plain": [
              "title           0\n",
              "text            0\n",
              "subject         0\n",
              "date            0\n",
              "authenticity    0\n",
              "dtype: int64"
            ]
          },
          "execution_count": 4,
          "metadata": {},
          "output_type": "execute_result"
        }
      ],
      "source": [
        "# Al verificar la presencia de datos nulos, podemos visualizar que no existen \n",
        "data.isnull().sum()"
      ]
    },
    {
      "cell_type": "markdown",
      "metadata": {
        "id": "Yhm6ZjBnRix7"
      },
      "source": [
        "## 1.4 Manejo del Dataset (2 puntos)\n",
        "\n",
        "- Elimina las columnas que no sean relevantes para el entrenamiento del modelo (1 pts.)\n",
        "- Haz que los textos estén en un formato óptimo para ser procesados por los modelos de clasificación (0.5 pts.) Justifica tu decisión (0.5 pts.)\n",
        "\n",
        "\n",
        "\n",
        "RESPUESTA:"
      ]
    },
    {
      "cell_type": "code",
      "execution_count": 5,
      "metadata": {},
      "outputs": [],
      "source": [
        "# En primer lugar, eliminaremos la columna the date, ya que consideraremos que no es relevante para la prediccion de la vericidad de las noticias\n",
        "data.drop(columns=['date'], inplace=True)\n",
        "# Asimismo, eliminaremos la columna  subject, ya que consideraremos que no es un aporte para la prediccion del modelo. \n",
        "# Es decir, consideraremos solo title y text como caracteristicas esenciales para verificar si la noticia es verdadera o falsa. \n",
        "data.drop(columns=['subject'], inplace=True)\n"
      ]
    },
    {
      "cell_type": "code",
      "execution_count": 6,
      "metadata": {},
      "outputs": [],
      "source": [
        "# Luego transformaremos la caracteristicas authenticity a tipo binaria y la guardaremos como nuestra variable objetivo Y\n",
        "# Fake = 0, Real = 1\n",
        "data['authenticity'] = data['authenticity'].replace('Fake', 0)\n",
        "data['authenticity'] = data['authenticity'].replace('Real', 1)"
      ]
    },
    {
      "cell_type": "code",
      "execution_count": 7,
      "metadata": {},
      "outputs": [],
      "source": [
        "Y = data['authenticity'] # Variable de respuesta binaria\n",
        "data.drop(columns=['authenticity'], inplace=True)\n"
      ]
    },
    {
      "cell_type": "code",
      "execution_count": 8,
      "metadata": {},
      "outputs": [],
      "source": [
        "# Finalmente uniremos tanto el titulo y el texto de la noticia en una sola caracteristica: \"fullContent\". \n",
        "data['fullContent'] = data['title'] + ' ' + data['text']"
      ]
    },
    {
      "cell_type": "code",
      "execution_count": 9,
      "metadata": {},
      "outputs": [],
      "source": [
        "# Dejaremos el dataset solo con el contenido completo entre titulo y texto\n",
        "data.drop(columns=['title', 'text'], inplace=True) # Eliminamos la caracteristica title y text"
      ]
    },
    {
      "cell_type": "code",
      "execution_count": 10,
      "metadata": {},
      "outputs": [],
      "source": [
        "import re\n",
        "\n",
        "# Finalmente, defininiremos la funcion tokenize para que conserve las palabras elementales de cada fila (reducir cada palabra a su raiz semantica). \n",
        "stop_words = set(stopwords.words('english')) # Eliminamos stop words como and, the, etc ... \n",
        "tokenizer = RegexpTokenizer('[\\'a-zA-Z]+')  \n",
        "lemmatizer = WordNetLemmatizer() # Inicializamos el Lematizador\n",
        "\n",
        "def tokenize(document):\n",
        "    words = []\n",
        "    cant_words = 0\n",
        "    for sentence in sent_tokenize(document):\n",
        "        tokens = [lemmatizer.lemmatize(t.lower()) \n",
        "                for t in tokenizer.tokenize(sentence) \n",
        "                if t.lower() not in stop_words \n",
        "                and len(t) > 2]\n",
        "        words += tokens\n",
        "    text = ' '.join(words)\n",
        "    return text"
      ]
    },
    {
      "cell_type": "code",
      "execution_count": 11,
      "metadata": {},
      "outputs": [],
      "source": [
        "data['fullContent'] = data['fullContent'].apply(tokenize) # Aplicamos tokenize para la cadena de texto completa"
      ]
    },
    {
      "cell_type": "markdown",
      "metadata": {},
      "source": [
        "👉🏻 Tener la columna FullContent reducida de tal manera nos permitira preprocesar mejor los datos, luego de ser vectorizados, asi podemos predecir con mayor acierto en la autenticidad de la noticia. "
      ]
    },
    {
      "cell_type": "markdown",
      "metadata": {},
      "source": [
        "# Parte 2: Vectorización (14 puntos)"
      ]
    },
    {
      "cell_type": "markdown",
      "metadata": {},
      "source": [
        "# SBert"
      ]
    },
    {
      "cell_type": "markdown",
      "metadata": {},
      "source": [
        "Para esta parte, deben utilizar SBert para vectorizar los textos de las noticias. Utilicen el modelo pre-entrenado de SBert llamado SentenceTransformer. Específicamente, deben usar el modelo 'paraphrase-MiniLM-L6-v2' para obtener las representaciones vectoriales de las oraciones."
      ]
    },
    {
      "cell_type": "markdown",
      "metadata": {},
      "source": [
        "### 2.1) Vectorización con SBert (3 puntos)"
      ]
    },
    {
      "cell_type": "code",
      "execution_count": 12,
      "metadata": {},
      "outputs": [
        {
          "name": "stderr",
          "output_type": "stream",
          "text": [
            "Batches: 100%|██████████| 625/625 [27:57<00:00,  2.68s/it]\n"
          ]
        }
      ],
      "source": [
        "# Realizamos la vectorizacion de cada texto de la columna Fullcontent con SentenceTransformer\n",
        "model = SentenceTransformer('paraphrase-MiniLM-L6-v2')\n",
        "embeddings = model.encode(data['fullContent'], show_progress_bar=True)\n"
      ]
    },
    {
      "cell_type": "code",
      "execution_count": 16,
      "metadata": {},
      "outputs": [
        {
          "data": {
            "text/plain": [
              "array([[-0.17238072,  0.24617171,  0.436348  , ...,  0.20657474,\n",
              "        -0.00838031,  0.2733456 ],\n",
              "       [-0.14721826, -0.00069154, -0.07345282, ...,  0.11257574,\n",
              "         0.28973708, -0.04222446],\n",
              "       [-0.32168448, -0.14013496, -0.45157343, ...,  0.0125743 ,\n",
              "         0.25279516,  0.21141113],\n",
              "       ...,\n",
              "       [-0.17110334,  0.07774414,  0.03125362, ...,  0.22485365,\n",
              "         0.11039552,  0.483234  ],\n",
              "       [-0.10861244,  0.40306112, -0.3554126 , ...,  0.10832699,\n",
              "         0.24206895,  0.43058726],\n",
              "       [ 0.01268767,  0.10634974,  0.26106963, ..., -0.43970028,\n",
              "        -0.5167352 ,  0.38790083]], dtype=float32)"
            ]
          },
          "execution_count": 16,
          "metadata": {},
          "output_type": "execute_result"
        }
      ],
      "source": [
        "embeddings # Aca podemos visualizar como transformamos texto en un vector numerico"
      ]
    },
    {
      "cell_type": "code",
      "execution_count": 25,
      "metadata": {},
      "outputs": [],
      "source": [
        "X_SBERT = embeddings # Renombramos la variable"
      ]
    },
    {
      "cell_type": "markdown",
      "metadata": {},
      "source": [
        "### 2.2 Análisis teórico de SBert (4 puntos)\n",
        "Responde las siguientes preguntas: ¿Qué es SBert? ¿Cómo funciona? ¿Qué ventajas y desventajas tiene sobre otros modelos de vectorización de texto?\n",
        "\n",
        "RESPUESTA:"
      ]
    },
    {
      "cell_type": "markdown",
      "metadata": {},
      "source": [
        "__¿Qué es SBert?__ \n",
        "\n",
        "👉🏻 SBert (Sentence-BERT) es un modelo especializado y optimizado para embeddings a nivel de oraciones. Este es una modificacion del modelo BERT (Bidirectional Encoder \n",
        "Representations from Transformers),\n",
        "el cual se reconoce por ser una _open source machine learning framework_ para procesamiento natural del lenguaje (NLP). Este modelo esta enfocado en generar embeddings\n",
        "de palabras especificas segun el contexto en el cual esta se encuentra. Mientras que, SBERT esta enfocado en la creacion de embeddings para todas las palabras de una oracion\n",
        "\n",
        "__¿Cómo funciona?__  \n",
        "\n",
        "👉🏻 \n",
        "1. En primer lugar, SBERT recibe como input el conjunto de oraciones antes de ser vectorizadas. \n",
        "2. \n",
        "\n",
        "\n",
        "__¿Qué ventajas y desventajas tiene sobre otros modelos de vectorización de texto?__\n",
        "\n",
        "👉🏻\n",
        "\n",
        "#### Referencias\n",
        "[SBERT - TowardsDataScience](https://towardsdatascience.com/sbert-deb3d4aef8a4)"
      ]
    },
    {
      "cell_type": "markdown",
      "metadata": {},
      "source": [
        "# TF-IDF"
      ]
    },
    {
      "cell_type": "markdown",
      "metadata": {},
      "source": [
        "Para esta parte, deben utilizar TF-IDF para vectorizar los textos de las noticias. Utilicen la clase TfidfVectorizer de la librería sklearn.\n",
        "\n",
        "\n",
        "Tip: limita la cantidad de features."
      ]
    },
    {
      "cell_type": "markdown",
      "metadata": {},
      "source": [
        "### 2.3) Vectorización con TF-IDF (3 puntos)"
      ]
    },
    {
      "cell_type": "code",
      "execution_count": 13,
      "metadata": {},
      "outputs": [],
      "source": [
        "vectorizer = TfidfVectorizer(max_features=1000)\n",
        "X_TFIDF = vectorizer.fit_transform(data['fullContent']) # Vectorizamos la columna fullcontent con TF-IDF"
      ]
    },
    {
      "cell_type": "code",
      "execution_count": 14,
      "metadata": {},
      "outputs": [
        {
          "data": {
            "text/html": [
              "<div>\n",
              "<style scoped>\n",
              "    .dataframe tbody tr th:only-of-type {\n",
              "        vertical-align: middle;\n",
              "    }\n",
              "\n",
              "    .dataframe tbody tr th {\n",
              "        vertical-align: top;\n",
              "    }\n",
              "\n",
              "    .dataframe thead th {\n",
              "        text-align: right;\n",
              "    }\n",
              "</style>\n",
              "<table border=\"1\" class=\"dataframe\">\n",
              "  <thead>\n",
              "    <tr style=\"text-align: right;\">\n",
              "      <th></th>\n",
              "      <th>ability</th>\n",
              "      <th>able</th>\n",
              "      <th>abortion</th>\n",
              "      <th>absolutely</th>\n",
              "      <th>access</th>\n",
              "      <th>according</th>\n",
              "      <th>account</th>\n",
              "      <th>accusation</th>\n",
              "      <th>accused</th>\n",
              "      <th>across</th>\n",
              "      <th>...</th>\n",
              "      <th>world</th>\n",
              "      <th>worse</th>\n",
              "      <th>would</th>\n",
              "      <th>wrong</th>\n",
              "      <th>wrote</th>\n",
              "      <th>year</th>\n",
              "      <th>yes</th>\n",
              "      <th>yet</th>\n",
              "      <th>york</th>\n",
              "      <th>young</th>\n",
              "    </tr>\n",
              "  </thead>\n",
              "  <tbody>\n",
              "    <tr>\n",
              "      <th>0</th>\n",
              "      <td>0.0</td>\n",
              "      <td>0.0</td>\n",
              "      <td>0.0</td>\n",
              "      <td>0.0</td>\n",
              "      <td>0.0</td>\n",
              "      <td>0.000000</td>\n",
              "      <td>0.0</td>\n",
              "      <td>0.0</td>\n",
              "      <td>0.0</td>\n",
              "      <td>0.0</td>\n",
              "      <td>...</td>\n",
              "      <td>0.000000</td>\n",
              "      <td>0.0</td>\n",
              "      <td>0.038879</td>\n",
              "      <td>0.047106</td>\n",
              "      <td>0.0</td>\n",
              "      <td>0.444827</td>\n",
              "      <td>0.0</td>\n",
              "      <td>0.000000</td>\n",
              "      <td>0.000000</td>\n",
              "      <td>0.000000</td>\n",
              "    </tr>\n",
              "    <tr>\n",
              "      <th>1</th>\n",
              "      <td>0.0</td>\n",
              "      <td>0.0</td>\n",
              "      <td>0.0</td>\n",
              "      <td>0.0</td>\n",
              "      <td>0.0</td>\n",
              "      <td>0.131533</td>\n",
              "      <td>0.0</td>\n",
              "      <td>0.0</td>\n",
              "      <td>0.0</td>\n",
              "      <td>0.0</td>\n",
              "      <td>...</td>\n",
              "      <td>0.073682</td>\n",
              "      <td>0.0</td>\n",
              "      <td>0.000000</td>\n",
              "      <td>0.000000</td>\n",
              "      <td>0.0</td>\n",
              "      <td>0.000000</td>\n",
              "      <td>0.0</td>\n",
              "      <td>0.000000</td>\n",
              "      <td>0.155737</td>\n",
              "      <td>0.000000</td>\n",
              "    </tr>\n",
              "    <tr>\n",
              "      <th>2</th>\n",
              "      <td>0.0</td>\n",
              "      <td>0.0</td>\n",
              "      <td>0.0</td>\n",
              "      <td>0.0</td>\n",
              "      <td>0.0</td>\n",
              "      <td>0.000000</td>\n",
              "      <td>0.0</td>\n",
              "      <td>0.0</td>\n",
              "      <td>0.0</td>\n",
              "      <td>0.0</td>\n",
              "      <td>...</td>\n",
              "      <td>0.000000</td>\n",
              "      <td>0.0</td>\n",
              "      <td>0.000000</td>\n",
              "      <td>0.000000</td>\n",
              "      <td>0.0</td>\n",
              "      <td>0.021735</td>\n",
              "      <td>0.0</td>\n",
              "      <td>0.000000</td>\n",
              "      <td>0.000000</td>\n",
              "      <td>0.000000</td>\n",
              "    </tr>\n",
              "    <tr>\n",
              "      <th>3</th>\n",
              "      <td>0.0</td>\n",
              "      <td>0.0</td>\n",
              "      <td>0.0</td>\n",
              "      <td>0.0</td>\n",
              "      <td>0.0</td>\n",
              "      <td>0.000000</td>\n",
              "      <td>0.0</td>\n",
              "      <td>0.0</td>\n",
              "      <td>0.0</td>\n",
              "      <td>0.0</td>\n",
              "      <td>...</td>\n",
              "      <td>0.000000</td>\n",
              "      <td>0.0</td>\n",
              "      <td>0.068379</td>\n",
              "      <td>0.000000</td>\n",
              "      <td>0.0</td>\n",
              "      <td>0.027451</td>\n",
              "      <td>0.0</td>\n",
              "      <td>0.000000</td>\n",
              "      <td>0.000000</td>\n",
              "      <td>0.000000</td>\n",
              "    </tr>\n",
              "    <tr>\n",
              "      <th>4</th>\n",
              "      <td>0.0</td>\n",
              "      <td>0.0</td>\n",
              "      <td>0.0</td>\n",
              "      <td>0.0</td>\n",
              "      <td>0.0</td>\n",
              "      <td>0.000000</td>\n",
              "      <td>0.0</td>\n",
              "      <td>0.0</td>\n",
              "      <td>0.0</td>\n",
              "      <td>0.0</td>\n",
              "      <td>...</td>\n",
              "      <td>0.062269</td>\n",
              "      <td>0.0</td>\n",
              "      <td>0.000000</td>\n",
              "      <td>0.000000</td>\n",
              "      <td>0.0</td>\n",
              "      <td>0.000000</td>\n",
              "      <td>0.0</td>\n",
              "      <td>0.066913</td>\n",
              "      <td>0.000000</td>\n",
              "      <td>0.094487</td>\n",
              "    </tr>\n",
              "    <tr>\n",
              "      <th>...</th>\n",
              "      <td>...</td>\n",
              "      <td>...</td>\n",
              "      <td>...</td>\n",
              "      <td>...</td>\n",
              "      <td>...</td>\n",
              "      <td>...</td>\n",
              "      <td>...</td>\n",
              "      <td>...</td>\n",
              "      <td>...</td>\n",
              "      <td>...</td>\n",
              "      <td>...</td>\n",
              "      <td>...</td>\n",
              "      <td>...</td>\n",
              "      <td>...</td>\n",
              "      <td>...</td>\n",
              "      <td>...</td>\n",
              "      <td>...</td>\n",
              "      <td>...</td>\n",
              "      <td>...</td>\n",
              "      <td>...</td>\n",
              "      <td>...</td>\n",
              "    </tr>\n",
              "    <tr>\n",
              "      <th>9995</th>\n",
              "      <td>0.0</td>\n",
              "      <td>0.0</td>\n",
              "      <td>0.0</td>\n",
              "      <td>0.0</td>\n",
              "      <td>0.0</td>\n",
              "      <td>0.000000</td>\n",
              "      <td>0.0</td>\n",
              "      <td>0.0</td>\n",
              "      <td>0.0</td>\n",
              "      <td>0.0</td>\n",
              "      <td>...</td>\n",
              "      <td>0.000000</td>\n",
              "      <td>0.0</td>\n",
              "      <td>0.099470</td>\n",
              "      <td>0.000000</td>\n",
              "      <td>0.0</td>\n",
              "      <td>0.000000</td>\n",
              "      <td>0.0</td>\n",
              "      <td>0.097448</td>\n",
              "      <td>0.000000</td>\n",
              "      <td>0.000000</td>\n",
              "    </tr>\n",
              "    <tr>\n",
              "      <th>9996</th>\n",
              "      <td>0.0</td>\n",
              "      <td>0.0</td>\n",
              "      <td>0.0</td>\n",
              "      <td>0.0</td>\n",
              "      <td>0.0</td>\n",
              "      <td>0.024250</td>\n",
              "      <td>0.0</td>\n",
              "      <td>0.0</td>\n",
              "      <td>0.0</td>\n",
              "      <td>0.0</td>\n",
              "      <td>...</td>\n",
              "      <td>0.000000</td>\n",
              "      <td>0.0</td>\n",
              "      <td>0.149003</td>\n",
              "      <td>0.036107</td>\n",
              "      <td>0.0</td>\n",
              "      <td>0.035891</td>\n",
              "      <td>0.0</td>\n",
              "      <td>0.000000</td>\n",
              "      <td>0.000000</td>\n",
              "      <td>0.000000</td>\n",
              "    </tr>\n",
              "    <tr>\n",
              "      <th>9997</th>\n",
              "      <td>0.0</td>\n",
              "      <td>0.0</td>\n",
              "      <td>0.0</td>\n",
              "      <td>0.0</td>\n",
              "      <td>0.0</td>\n",
              "      <td>0.000000</td>\n",
              "      <td>0.0</td>\n",
              "      <td>0.0</td>\n",
              "      <td>0.0</td>\n",
              "      <td>0.0</td>\n",
              "      <td>...</td>\n",
              "      <td>0.000000</td>\n",
              "      <td>0.0</td>\n",
              "      <td>0.047801</td>\n",
              "      <td>0.000000</td>\n",
              "      <td>0.0</td>\n",
              "      <td>0.057569</td>\n",
              "      <td>0.0</td>\n",
              "      <td>0.000000</td>\n",
              "      <td>0.184219</td>\n",
              "      <td>0.000000</td>\n",
              "    </tr>\n",
              "    <tr>\n",
              "      <th>9998</th>\n",
              "      <td>0.0</td>\n",
              "      <td>0.0</td>\n",
              "      <td>0.0</td>\n",
              "      <td>0.0</td>\n",
              "      <td>0.0</td>\n",
              "      <td>0.000000</td>\n",
              "      <td>0.0</td>\n",
              "      <td>0.0</td>\n",
              "      <td>0.0</td>\n",
              "      <td>0.0</td>\n",
              "      <td>...</td>\n",
              "      <td>0.000000</td>\n",
              "      <td>0.0</td>\n",
              "      <td>0.034956</td>\n",
              "      <td>0.000000</td>\n",
              "      <td>0.0</td>\n",
              "      <td>0.000000</td>\n",
              "      <td>0.0</td>\n",
              "      <td>0.000000</td>\n",
              "      <td>0.000000</td>\n",
              "      <td>0.000000</td>\n",
              "    </tr>\n",
              "    <tr>\n",
              "      <th>9999</th>\n",
              "      <td>0.0</td>\n",
              "      <td>0.0</td>\n",
              "      <td>0.0</td>\n",
              "      <td>0.0</td>\n",
              "      <td>0.0</td>\n",
              "      <td>0.034886</td>\n",
              "      <td>0.0</td>\n",
              "      <td>0.0</td>\n",
              "      <td>0.0</td>\n",
              "      <td>0.0</td>\n",
              "      <td>...</td>\n",
              "      <td>0.039085</td>\n",
              "      <td>0.0</td>\n",
              "      <td>0.021436</td>\n",
              "      <td>0.000000</td>\n",
              "      <td>0.0</td>\n",
              "      <td>0.025817</td>\n",
              "      <td>0.0</td>\n",
              "      <td>0.000000</td>\n",
              "      <td>0.000000</td>\n",
              "      <td>0.000000</td>\n",
              "    </tr>\n",
              "  </tbody>\n",
              "</table>\n",
              "<p>10000 rows × 1000 columns</p>\n",
              "</div>"
            ],
            "text/plain": [
              "      ability  able  abortion  absolutely  access  according  account  \\\n",
              "0         0.0   0.0       0.0         0.0     0.0   0.000000      0.0   \n",
              "1         0.0   0.0       0.0         0.0     0.0   0.131533      0.0   \n",
              "2         0.0   0.0       0.0         0.0     0.0   0.000000      0.0   \n",
              "3         0.0   0.0       0.0         0.0     0.0   0.000000      0.0   \n",
              "4         0.0   0.0       0.0         0.0     0.0   0.000000      0.0   \n",
              "...       ...   ...       ...         ...     ...        ...      ...   \n",
              "9995      0.0   0.0       0.0         0.0     0.0   0.000000      0.0   \n",
              "9996      0.0   0.0       0.0         0.0     0.0   0.024250      0.0   \n",
              "9997      0.0   0.0       0.0         0.0     0.0   0.000000      0.0   \n",
              "9998      0.0   0.0       0.0         0.0     0.0   0.000000      0.0   \n",
              "9999      0.0   0.0       0.0         0.0     0.0   0.034886      0.0   \n",
              "\n",
              "      accusation  accused  across  ...     world  worse     would     wrong  \\\n",
              "0            0.0      0.0     0.0  ...  0.000000    0.0  0.038879  0.047106   \n",
              "1            0.0      0.0     0.0  ...  0.073682    0.0  0.000000  0.000000   \n",
              "2            0.0      0.0     0.0  ...  0.000000    0.0  0.000000  0.000000   \n",
              "3            0.0      0.0     0.0  ...  0.000000    0.0  0.068379  0.000000   \n",
              "4            0.0      0.0     0.0  ...  0.062269    0.0  0.000000  0.000000   \n",
              "...          ...      ...     ...  ...       ...    ...       ...       ...   \n",
              "9995         0.0      0.0     0.0  ...  0.000000    0.0  0.099470  0.000000   \n",
              "9996         0.0      0.0     0.0  ...  0.000000    0.0  0.149003  0.036107   \n",
              "9997         0.0      0.0     0.0  ...  0.000000    0.0  0.047801  0.000000   \n",
              "9998         0.0      0.0     0.0  ...  0.000000    0.0  0.034956  0.000000   \n",
              "9999         0.0      0.0     0.0  ...  0.039085    0.0  0.021436  0.000000   \n",
              "\n",
              "      wrote      year  yes       yet      york     young  \n",
              "0       0.0  0.444827  0.0  0.000000  0.000000  0.000000  \n",
              "1       0.0  0.000000  0.0  0.000000  0.155737  0.000000  \n",
              "2       0.0  0.021735  0.0  0.000000  0.000000  0.000000  \n",
              "3       0.0  0.027451  0.0  0.000000  0.000000  0.000000  \n",
              "4       0.0  0.000000  0.0  0.066913  0.000000  0.094487  \n",
              "...     ...       ...  ...       ...       ...       ...  \n",
              "9995    0.0  0.000000  0.0  0.097448  0.000000  0.000000  \n",
              "9996    0.0  0.035891  0.0  0.000000  0.000000  0.000000  \n",
              "9997    0.0  0.057569  0.0  0.000000  0.184219  0.000000  \n",
              "9998    0.0  0.000000  0.0  0.000000  0.000000  0.000000  \n",
              "9999    0.0  0.025817  0.0  0.000000  0.000000  0.000000  \n",
              "\n",
              "[10000 rows x 1000 columns]"
            ]
          },
          "execution_count": 14,
          "metadata": {},
          "output_type": "execute_result"
        }
      ],
      "source": [
        "df_TFIDF = pd.DataFrame(X_TFIDF.toarray(), columns=vectorizer.get_feature_names_out())\n",
        "df_TFIDF \n",
        "# Aca podemos visualizar el dataframe que relaciona la cantidad de documentos que tenemos y \n",
        "# la cantidad de palabras de cada uno (representado numericamente)"
      ]
    },
    {
      "cell_type": "markdown",
      "metadata": {},
      "source": [
        "### 2.2) Análisis teórico de TF-IDF (4 puntos)\n",
        "Responde las siguientes preguntas: ¿Qué es TF-IDF? ¿Cómo funciona? ¿Qué ventajas y desventajas tiene sobre otros modelos de vectorización de texto?\n",
        "\n",
        "RESPUESTA:\n",
        "\n",
        "__¿Qué es TF-IDF?__\n",
        "\n",
        "👉🏻\n",
        "\n",
        "__¿Cómo funciona?__\n",
        "\n",
        "👉🏻\n",
        "\n",
        "__¿Qué ventajas y desventajas tiene sobre otros modelos de vectorización de texto?__\n",
        "\n",
        "👉🏻\n"
      ]
    },
    {
      "cell_type": "markdown",
      "metadata": {
        "id": "KVspTAuVGsUM"
      },
      "source": [
        "# Parte 3: SVM (36 puntos)"
      ]
    },
    {
      "cell_type": "markdown",
      "metadata": {},
      "source": [
        "### 3.1) Preguntas teóricas (10 puntos)\n",
        "1. ¿Qué es SVM? ¿Cómo funciona? ¿En qué casos es útil? ¿En cuáles no? (4 ptos.)\n",
        "3. ¿Qué es un kernel? ¿Qué tipos de kernels existen? ¿Cuál es la diferencia entre ellos? (3 ptos.)\n",
        "4. ¿Qué indica el parámetro C? ¿Qué sucede si C es muy grande? ¿Y si es muy pequeño? (3 ptos.)"
      ]
    },
    {
      "cell_type": "markdown",
      "metadata": {},
      "source": [
        "#### SVM \n",
        "__¿Qué es SVM?__ \n",
        "\n",
        "👉🏻\n",
        "\n",
        "__¿Cómo funciona?__ \n",
        "\n",
        "👉🏻\n",
        "\n",
        "__¿En qué casos es útil y en cuáles no?__\n",
        "\n",
        "👉🏻\n",
        "\n",
        "#### Kernel\n",
        "\n",
        "__¿Qué es un kernel?__\n",
        "\n",
        "👉🏻\n",
        "\n",
        "__¿Cuál es la diferencia entre ellos?__\n",
        "\n",
        "👉🏻\n",
        "\n",
        "__¿Qué tipos de kernels existen?__\n",
        "\n",
        "👉🏻\n",
        "\n",
        "#### Parametro C\n",
        "__¿Qué indica el parámetro C?__\n",
        "\n",
        "👉🏻\n",
        "\n",
        "__¿Qué sucede si C es muy grande?__\n",
        "\n",
        "👉🏻\n",
        "\n",
        "__¿Y si es muy pequeño?__\n",
        "\n",
        "👉🏻"
      ]
    },
    {
      "cell_type": "markdown",
      "metadata": {},
      "source": [
        "### 3.2) SVM con vectorización SBert (10 puntos) \n",
        "Para esta parte deben entrenar un modelo SVM con las representaciones vectoriales obtenidas con SBert. Deben utilizar la clase SVC de la librería sklearn. Para esto:\n",
        "- Deben dejar los datos en un formato adecuado para ser procesados por el modelo (1 pto.)\n",
        "- Dividir el dataset en train y test (1 pto.)\n",
        "- Entrenar el modelo SVM con los datos de train (2 ptos.) modificando los hiperparámetros kernel y C (4 ptos.)\n",
        "- Evaluar el modelo con los datos de test y comentar brevemente los resultados obtenidos (2 ptos.)."
      ]
    },
    {
      "cell_type": "code",
      "execution_count": 42,
      "metadata": {},
      "outputs": [],
      "source": [
        "scaler = MinMaxScaler()\n",
        "X_SBERT_scaled = scaler.fit_transform(X_SBERT)"
      ]
    },
    {
      "cell_type": "code",
      "execution_count": 43,
      "metadata": {},
      "outputs": [],
      "source": [
        "X_train_sb, X_test_sb, y_train_sb, y_test_sb = train_test_split(X_SBERT_scaled, Y, test_size=0.3, stratify=Y) "
      ]
    },
    {
      "cell_type": "code",
      "execution_count": 46,
      "metadata": {},
      "outputs": [],
      "source": [
        "# Hipermarametros SVM\n",
        "kernels = ['linear', 'poly', 'rbf', 'sigmoid'] \n",
        "degrees = [2, 3, 4, 5, 6] \n",
        "c_values = [0.001, 0.01, 0.1, 1, 10, 100, 1000] "
      ]
    },
    {
      "cell_type": "code",
      "execution_count": 55,
      "metadata": {},
      "outputs": [
        {
          "name": "stdout",
          "output_type": "stream",
          "text": [
            "For kernel = linear With C value =  0.001 The accuracy is : 0.962\n",
            "For kernel = linear With C value =  0.01 The accuracy is : 0.9756666666666667\n",
            "For kernel = linear With C value =  0.1 The accuracy is : 0.9743333333333334\n",
            "For kernel = linear With C value =  1 The accuracy is : 0.9656666666666667\n",
            "For kernel = linear With C value =  10 The accuracy is : 0.9543333333333334\n",
            "For kernel = linear With C value =  100 The accuracy is : 0.9553333333333334\n",
            "For kernel = linear With C value =  1000 The accuracy is : 0.9553333333333334\n",
            "For kernel = poly with degree = 2 with C value =  0.001 The accuracy is : 0.5583333333333333\n",
            "For kernel = poly with degree = 3 with C value =  0.001 The accuracy is : 0.5346666666666666\n",
            "For kernel = poly with degree = 4 with C value =  0.001 The accuracy is : 0.5003333333333333\n",
            "For kernel = poly with degree = 5 with C value =  0.001 The accuracy is : 0.5\n",
            "For kernel = poly with degree = 6 with C value =  0.001 The accuracy is : 0.5\n",
            "For kernel = poly with degree = 2 with C value =  0.01 The accuracy is : 0.5583333333333333\n",
            "For kernel = poly with degree = 3 with C value =  0.01 The accuracy is : 0.536\n",
            "For kernel = poly with degree = 4 with C value =  0.01 The accuracy is : 0.5003333333333333\n",
            "For kernel = poly with degree = 5 with C value =  0.01 The accuracy is : 0.5\n",
            "For kernel = poly with degree = 6 with C value =  0.01 The accuracy is : 0.5\n",
            "For kernel = poly with degree = 2 with C value =  0.1 The accuracy is : 0.8613333333333333\n",
            "For kernel = poly with degree = 3 with C value =  0.1 The accuracy is : 0.8943333333333333\n",
            "For kernel = poly with degree = 4 with C value =  0.1 The accuracy is : 0.6246666666666667\n",
            "For kernel = poly with degree = 5 with C value =  0.1 The accuracy is : 0.5633333333333334\n",
            "For kernel = poly with degree = 6 with C value =  0.1 The accuracy is : 0.5306666666666666\n",
            "For kernel = poly with degree = 2 with C value =  1 The accuracy is : 0.9166666666666666\n",
            "For kernel = poly with degree = 3 with C value =  1 The accuracy is : 0.952\n",
            "For kernel = poly with degree = 4 with C value =  1 The accuracy is : 0.837\n",
            "For kernel = poly with degree = 5 with C value =  1 The accuracy is : 0.7733333333333333\n",
            "For kernel = poly with degree = 6 with C value =  1 The accuracy is : 0.6596666666666666\n",
            "For kernel = poly with degree = 2 with C value =  10 The accuracy is : 0.9116666666666666\n",
            "For kernel = poly with degree = 3 with C value =  10 The accuracy is : 0.963\n",
            "For kernel = poly with degree = 4 with C value =  10 The accuracy is : 0.8886666666666667\n",
            "For kernel = poly with degree = 5 with C value =  10 The accuracy is : 0.8326666666666667\n",
            "For kernel = poly with degree = 6 with C value =  10 The accuracy is : 0.721\n",
            "For kernel = poly with degree = 2 with C value =  100 The accuracy is : 0.9116666666666666\n",
            "For kernel = poly with degree = 3 with C value =  100 The accuracy is : 0.963\n",
            "For kernel = poly with degree = 4 with C value =  100 The accuracy is : 0.891\n",
            "For kernel = poly with degree = 5 with C value =  100 The accuracy is : 0.8403333333333334\n",
            "For kernel = poly with degree = 6 with C value =  100 The accuracy is : 0.7306666666666667\n",
            "For kernel = poly with degree = 2 with C value =  1000 The accuracy is : 0.9116666666666666\n",
            "For kernel = poly with degree = 3 with C value =  1000 The accuracy is : 0.963\n",
            "For kernel = poly with degree = 4 with C value =  1000 The accuracy is : 0.891\n",
            "For kernel = poly with degree = 5 with C value =  1000 The accuracy is : 0.8403333333333334\n",
            "For kernel = poly with degree = 6 with C value =  1000 The accuracy is : 0.7306666666666667\n",
            "For kernel = rbf With C value =  0.001 The accuracy is : 0.8636666666666667\n",
            "For kernel = rbf With C value =  0.01 The accuracy is : 0.901\n",
            "For kernel = rbf With C value =  0.1 The accuracy is : 0.9456666666666667\n",
            "For kernel = rbf With C value =  1 The accuracy is : 0.9713333333333334\n",
            "For kernel = rbf With C value =  10 The accuracy is : 0.9786666666666667\n",
            "For kernel = rbf With C value =  100 The accuracy is : 0.9786666666666667\n",
            "For kernel = rbf With C value =  1000 The accuracy is : 0.9786666666666667\n",
            "For kernel = sigmoid With C value =  0.001 The accuracy is : 0.9013333333333333\n",
            "For kernel = sigmoid With C value =  0.01 The accuracy is : 0.9243333333333333\n",
            "For kernel = sigmoid With C value =  0.1 The accuracy is : 0.9553333333333334\n",
            "For kernel = sigmoid With C value =  1 The accuracy is : 0.964\n",
            "For kernel = sigmoid With C value =  10 The accuracy is : 0.943\n",
            "For kernel = sigmoid With C value =  100 The accuracy is : 0.9463333333333334\n",
            "For kernel = sigmoid With C value =  1000 The accuracy is : 0.948\n"
          ]
        }
      ],
      "source": [
        "\n",
        "for kernel_ in kernels:\n",
        "    for c in c_values:\n",
        "        if kernel_ == 'poly':\n",
        "            for degree_ in degrees:\n",
        "                clf = make_pipeline(StandardScaler(), SVC(kernel=kernel_, degree= degree_, C=c))\n",
        "                clf.fit(X_train_sb, y_train_sb)\n",
        "                y_pred_sb = clf.predict(X_test_sb)\n",
        "                acc = accuracy_score(y_test_sb, y_pred_sb)\n",
        "                print(\n",
        "                    \"For kernel =\",\n",
        "                    kernel_,\n",
        "                    \"with degree =\",\n",
        "                    degree_,\n",
        "                    \"with C value = \",\n",
        "                    c,\n",
        "                    \"The accuracy is :\",\n",
        "                    acc,\n",
        "                )\n",
        "        else:\n",
        "            clf = make_pipeline(StandardScaler(), SVC(kernel=kernel_, C=c))\n",
        "            clf.fit(X_train_sb, y_train_sb)\n",
        "            y_pred_sb = clf.predict(X_test_sb)\n",
        "            acc = accuracy_score(y_test_sb, y_pred_sb)\n",
        "            print(\n",
        "                \"For kernel =\",\n",
        "                kernel_,\n",
        "                \"With C value = \",\n",
        "                c,\n",
        "                \"The accuracy is :\",\n",
        "                acc,\n",
        "            )\n"
      ]
    },
    {
      "cell_type": "code",
      "execution_count": 56,
      "metadata": {},
      "outputs": [
        {
          "name": "stdout",
          "output_type": "stream",
          "text": [
            "              precision    recall  f1-score   support\n",
            "\n",
            "           0       0.98      0.98      0.98      1500\n",
            "           1       0.98      0.98      0.98      1500\n",
            "\n",
            "    accuracy                           0.98      3000\n",
            "   macro avg       0.98      0.98      0.98      3000\n",
            "weighted avg       0.98      0.98      0.98      3000\n",
            "\n"
          ]
        }
      ],
      "source": [
        "# En base a los resultados de entrenamiento del modelo, el kernel que presento mayor acertividad en las predicciones es el kernel gaussiano. \n",
        "# con valores iguales para C = 10, 100, 1000.\n",
        "clf_sb = make_pipeline(StandardScaler(), SVC(kernel='rbf', C=100))\n",
        "clf_sb.fit(X_train_sb, y_train_sb)\n",
        "y_pred_sb = clf_sb.predict(X_test_sb)\n",
        "print(classification_report(y_test_sb, y_pred_sb))"
      ]
    },
    {
      "cell_type": "code",
      "execution_count": 98,
      "metadata": {},
      "outputs": [
        {
          "data": {
            "image/png": "[encoded data removed]",
            "text/plain": [
              "<Figure size 640x480 with 2 Axes>"
            ]
          },
          "metadata": {},
          "output_type": "display_data"
        }
      ],
      "source": [
        "cm_sb = confusion_matrix(y_test_sb, y_pred_sb)\n",
        "cm_display = ConfusionMatrixDisplay(cm_sb).plot(cmap='BuGn')"
      ]
    },
    {
      "cell_type": "markdown",
      "metadata": {},
      "source": []
    },
    {
      "cell_type": "markdown",
      "metadata": {},
      "source": [
        "### 3.3) SVM con vectorización TF-IDF (10 puntos) \n",
        "Para esta parte deben entrenar un modelo SVM con las representaciones vectoriales obtenidas con TF-IDF. Deben utilizar la clase SVC de la librería sklearn. Para esto:\n",
        "- Deben dejar los datos en un formato adecuado para ser procesados por el modelo (1 pto.)\n",
        "- Dividir el dataset en train y test (1 pto.)\n",
        "- Entrenar el modelo SVM con los datos de train (2 ptos.) modificando los hiperparámetros kernel y C (4 ptos.)\n",
        "- Evaluar el modelo con los datos de test y comentar brevemente los resultados obtenidos (2 ptos.)."
      ]
    },
    {
      "cell_type": "code",
      "execution_count": 74,
      "metadata": {},
      "outputs": [],
      "source": [
        "X_TFIDF_scaled = scaler.fit_transform(X_TFIDF.toarray())"
      ]
    },
    {
      "cell_type": "code",
      "execution_count": 76,
      "metadata": {},
      "outputs": [],
      "source": [
        "X_train_tfidf, X_test_tfidf, y_train_tfidf, y_test_tfidf = train_test_split(X_TFIDF_scaled, Y, test_size=0.3, stratify=Y) "
      ]
    },
    {
      "cell_type": "code",
      "execution_count": 77,
      "metadata": {},
      "outputs": [
        {
          "name": "stdout",
          "output_type": "stream",
          "text": [
            "For kernel = linear with C value =  0.001 The accuracy is : 0.9973333333333333\n",
            "For kernel = linear with C value =  0.01 The accuracy is : 0.9976666666666667\n",
            "For kernel = linear with C value =  0.1 The accuracy is : 0.9976666666666667\n",
            "For kernel = linear with C value =  1 The accuracy is : 0.9976666666666667\n",
            "For kernel = linear with C value =  10 The accuracy is : 0.9976666666666667\n",
            "For kernel = linear with C value =  100 The accuracy is : 0.9976666666666667\n",
            "For kernel = linear with C value =  1000 The accuracy is : 0.9976666666666667\n",
            "For kernel = poly with degree = 2 with C value =  0.001 The accuracy is : 0.7523333333333333\n",
            "For kernel = poly with degree = 3 with C value =  0.001 The accuracy is : 0.6173333333333333\n",
            "For kernel = poly with degree = 4 with C value =  0.001 The accuracy is : 0.5343333333333333\n",
            "For kernel = poly with degree = 5 with C value =  0.001 The accuracy is : 0.5026666666666667\n",
            "For kernel = poly with degree = 6 with C value =  0.001 The accuracy is : 0.5\n",
            "For kernel = poly with degree = 2 with C value =  0.01 The accuracy is : 0.7523333333333333\n",
            "For kernel = poly with degree = 3 with C value =  0.01 The accuracy is : 0.6173333333333333\n",
            "For kernel = poly with degree = 4 with C value =  0.01 The accuracy is : 0.5343333333333333\n",
            "For kernel = poly with degree = 5 with C value =  0.01 The accuracy is : 0.5026666666666667\n",
            "For kernel = poly with degree = 6 with C value =  0.01 The accuracy is : 0.5\n",
            "For kernel = poly with degree = 2 with C value =  0.1 The accuracy is : 0.9056666666666666\n",
            "For kernel = poly with degree = 3 with C value =  0.1 The accuracy is : 0.6173333333333333\n",
            "For kernel = poly with degree = 4 with C value =  0.1 The accuracy is : 0.5443333333333333\n",
            "For kernel = poly with degree = 5 with C value =  0.1 The accuracy is : 0.5116666666666667\n",
            "For kernel = poly with degree = 6 with C value =  0.1 The accuracy is : 0.5406666666666666\n",
            "For kernel = poly with degree = 2 with C value =  1 The accuracy is : 0.9533333333333334\n",
            "For kernel = poly with degree = 3 with C value =  1 The accuracy is : 0.965\n",
            "For kernel = poly with degree = 4 with C value =  1 The accuracy is : 0.7366666666666667\n",
            "For kernel = poly with degree = 5 with C value =  1 The accuracy is : 0.5086666666666667\n",
            "For kernel = poly with degree = 6 with C value =  1 The accuracy is : 0.501\n",
            "For kernel = poly with degree = 2 with C value =  10 The accuracy is : 0.961\n",
            "For kernel = poly with degree = 3 with C value =  10 The accuracy is : 0.973\n",
            "For kernel = poly with degree = 4 with C value =  10 The accuracy is : 0.899\n",
            "For kernel = poly with degree = 5 with C value =  10 The accuracy is : 0.546\n",
            "For kernel = poly with degree = 6 with C value =  10 The accuracy is : 0.5053333333333333\n",
            "For kernel = poly with degree = 2 with C value =  100 The accuracy is : 0.961\n",
            "For kernel = poly with degree = 3 with C value =  100 The accuracy is : 0.973\n",
            "For kernel = poly with degree = 4 with C value =  100 The accuracy is : 0.8863333333333333\n",
            "For kernel = poly with degree = 5 with C value =  100 The accuracy is : 0.5503333333333333\n",
            "For kernel = poly with degree = 6 with C value =  100 The accuracy is : 0.508\n",
            "For kernel = poly with degree = 2 with C value =  1000 The accuracy is : 0.961\n",
            "For kernel = poly with degree = 3 with C value =  1000 The accuracy is : 0.973\n",
            "For kernel = poly with degree = 4 with C value =  1000 The accuracy is : 0.8863333333333333\n",
            "For kernel = poly with degree = 5 with C value =  1000 The accuracy is : 0.5503333333333333\n",
            "For kernel = poly with degree = 6 with C value =  1000 The accuracy is : 0.5073333333333333\n",
            "For kernel = rbf with C value =  0.001 The accuracy is : 0.9053333333333333\n",
            "For kernel = rbf with C value =  0.01 The accuracy is : 0.9053333333333333\n",
            "For kernel = rbf with C value =  0.1 The accuracy is : 0.9886666666666667\n",
            "For kernel = rbf with C value =  1 The accuracy is : 0.998\n",
            "For kernel = rbf with C value =  10 The accuracy is : 0.9973333333333333\n",
            "For kernel = rbf with C value =  100 The accuracy is : 0.9973333333333333\n",
            "For kernel = rbf with C value =  1000 The accuracy is : 0.9973333333333333\n",
            "For kernel = sigmoid with C value =  0.001 The accuracy is : 0.927\n",
            "For kernel = sigmoid with C value =  0.01 The accuracy is : 0.9753333333333334\n",
            "For kernel = sigmoid with C value =  0.1 The accuracy is : 0.9946666666666667\n",
            "For kernel = sigmoid with C value =  1 The accuracy is : 0.998\n",
            "For kernel = sigmoid with C value =  10 The accuracy is : 0.994\n",
            "For kernel = sigmoid with C value =  100 The accuracy is : 0.9756666666666667\n",
            "For kernel = sigmoid with C value =  1000 The accuracy is : 0.9716666666666667\n"
          ]
        }
      ],
      "source": [
        "for kernel_ in kernels:\n",
        "    for c in c_values:\n",
        "        if kernel_ == 'poly':\n",
        "            for degree_ in degrees:\n",
        "                clf = make_pipeline(StandardScaler(), SVC(kernel=kernel_, degree= degree_, C=c))\n",
        "                clf.fit(X_train_tfidf, y_train_tfidf)\n",
        "                y_pred_tfidf = clf.predict(X_test_tfidf)\n",
        "                acc = accuracy_score(y_test_tfidf, y_pred_tfidf)\n",
        "                print(\n",
        "                    \"For kernel =\",\n",
        "                    kernel_,\n",
        "                    \"with degree =\",\n",
        "                    degree_,\n",
        "                    \"with C value = \",\n",
        "                    c,\n",
        "                    \"The accuracy is :\",\n",
        "                    acc,\n",
        "                )\n",
        "        else:\n",
        "            clf = make_pipeline(StandardScaler(), SVC(kernel=kernel_, C=c))\n",
        "            clf.fit(X_train_tfidf, y_train_tfidf)\n",
        "            y_pred_tfidf = clf.predict(X_test_tfidf)\n",
        "            acc = accuracy_score(y_test_tfidf, y_pred_tfidf)\n",
        "            print(\n",
        "                \"For kernel =\",\n",
        "                kernel_,\n",
        "                \"with C value = \",\n",
        "                c,\n",
        "                \"The accuracy is :\",\n",
        "                acc,\n",
        "            )\n"
      ]
    },
    {
      "cell_type": "code",
      "execution_count": 78,
      "metadata": {},
      "outputs": [
        {
          "name": "stdout",
          "output_type": "stream",
          "text": [
            "              precision    recall  f1-score   support\n",
            "\n",
            "           0       1.00      1.00      1.00      1500\n",
            "           1       1.00      1.00      1.00      1500\n",
            "\n",
            "    accuracy                           1.00      3000\n",
            "   macro avg       1.00      1.00      1.00      3000\n",
            "weighted avg       1.00      1.00      1.00      3000\n",
            "\n"
          ]
        }
      ],
      "source": [
        "# Dado los resultados anteriores podemos visualizar que los kernels con mas acertividad fueron el kernel gaussiano \n",
        "# y el kernel de la funcion Sigmoid, ambos con un valor de 0.998 y parametro C = 1\n",
        "clf_tfidf = make_pipeline(StandardScaler(), SVC(kernel='rbf', C=1)) # Escogeremos el kernel rbf \n",
        "clf_tfidf.fit(X_train_tfidf, y_train_tfidf)\n",
        "y_pred_tfidf = clf_tfidf.predict(X_test_tfidf)\n",
        "print(classification_report(y_test_tfidf, y_pred_tfidf))"
      ]
    },
    {
      "cell_type": "code",
      "execution_count": 93,
      "metadata": {},
      "outputs": [
        {
          "data": {
            "image/png": "[encoded data removed]",
            "text/plain": [
              "<Figure size 640x480 with 2 Axes>"
            ]
          },
          "metadata": {},
          "output_type": "display_data"
        }
      ],
      "source": [
        "cm_tfidf = confusion_matrix(y_test_tfidf, y_pred_tfidf)\n",
        "cm_display = ConfusionMatrixDisplay(cm_tfidf).plot(cmap='OrRd')"
      ]
    },
    {
      "cell_type": "markdown",
      "metadata": {},
      "source": [
        "### 3.4) Análisis de resultados (6 puntos)\n",
        "- ¿Qué vectorización obtuvo mejores resultados, SBert o TF-IDF? ¿Por qué? (3 ptos.)\n",
        "- ¿Qué hiperparámetros obtuvieron mejores resultados para cada vectorización? (3 ptos.)"
      ]
    },
    {
      "cell_type": "markdown",
      "metadata": {},
      "source": [
        "👉🏻\n",
        "\n",
        "👉🏻"
      ]
    },
    {
      "cell_type": "markdown",
      "metadata": {},
      "source": [
        "# Parte 4 (Bonus): LIME explainer (5 puntos)"
      ]
    },
    {
      "cell_type": "markdown",
      "metadata": {},
      "source": [
        "A continuación haz un análisis de los resultados obtenidos con el modelo SVM con vectorización SBert utilizando LIME explainer. Para esto, debes seguir los siguientes pasos:\n",
        "- Instalar la librería Lime\n",
        "- Elegir un ejemplo de test\n",
        "- Utilizar el explainer de Lime para explicar la predicción del modelo en ese ejemplo (2.5 pts.)\n",
        "- Analizar los resultados obtenidos y comentar brevemente (2.5 pts.)"
      ]
    },
    {
      "cell_type": "code",
      "execution_count": null,
      "metadata": {},
      "outputs": [],
      "source": []
    }
  ],
  "metadata": {
    "colab": {
      "provenance": []
    },
    "kernelspec": {
      "display_name": "Python 3",
      "name": "python3"
    },
    "language_info": {
      "codemirror_mode": {
        "name": "ipython",
        "version": 3
      },
      "file_extension": ".py",
      "mimetype": "text/x-python",
      "name": "python",
      "nbconvert_exporter": "python",
      "pygments_lexer": "ipython3",
      "version": "3.10.12"
    }
  },
  "nbformat": 4,
  "nbformat_minor": 0
}
